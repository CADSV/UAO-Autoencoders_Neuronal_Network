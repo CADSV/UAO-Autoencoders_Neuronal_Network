{
  "nbformat": 4,
  "nbformat_minor": 0,
  "metadata": {
    "colab": {
      "name": "Clasificacion_Autoencoders_MNIST_Carlos_Doffiny_SV.ipynb",
      "provenance": [],
      "collapsed_sections": [
        "LLh2azuAHrD6",
        "3bpjtyNeMN1y",
        "xoMic8hdQjI0"
      ]
    },
    "kernelspec": {
      "name": "python3",
      "display_name": "Python 3"
    },
    "language_info": {
      "name": "python"
    },
    "accelerator": "GPU"
  },
  "cells": [
    {
      "cell_type": "markdown",
      "source": [
        "#EJERCICIO N°3 DE LA GUÍA DE AUTOENCODERS - CARLOS DOFFINY S-V\n",
        "###Red Neuronal Autoencoder usando el data set **Mnist**\n",
        "\n",
        "####Este data set consta de 60000 imágenes de entrenamiento y 10000 de prueba de 10 clases"
      ],
      "metadata": {
        "id": "SLgGE_UL7Apm"
      }
    },
    {
      "cell_type": "markdown",
      "source": [
        "##Imports"
      ],
      "metadata": {
        "id": "FykGjOkZJCli"
      }
    },
    {
      "cell_type": "code",
      "execution_count": 1,
      "metadata": {
        "id": "FqX8DlZd54Gf"
      },
      "outputs": [],
      "source": [
        "import tensorflow as tf #Para el aprendizaje automático y entrenamiento de las redes\n",
        "import numpy as np #Para los diferentes vectores y matrices que se usarán\n",
        "import matplotlib.pyplot as plt #Para graficar\n",
        "\n",
        "from tensorflow.keras.models import Model, Sequential #Para la construcción de los modelos\n",
        "from tensorflow.keras.layers import Dense #Para la caja negra, que será llenada con capas densas\n",
        "from tensorflow.keras import Input #Para el input de los modelos\n",
        "from tensorflow.keras.utils import plot_model #Para mostrar el resumen de la arquitectura en bloques\n",
        "from keras.datasets import mnist #Data set a utilizar\n",
        "from keras.callbacks import ModelCheckpoint #Para los checkpoints\n",
        "from keras import regularizers #Regularizers\n",
        "from keras import backend as K \n",
        "from keras.utils import np_utils #Utils de numpy con Keras\n",
        "import keras\n",
        "import gzip\n",
        "%matplotlib inline\n",
        "from tensorflow.keras.optimizers import RMSprop\n",
        "from keras.layers import Input,Dense,Flatten,Dropout,merge,Reshape,Conv2D,MaxPooling2D,UpSampling2D,Conv2DTranspose\n",
        "from tensorflow.keras.layers import BatchNormalization\n"
      ]
    },
    {
      "cell_type": "markdown",
      "source": [
        "##Validemos que estemos usando la GPU Tesla K80\n",
        "####Ya que así se aumenta la capacidad de computo y por ende también la velocidad de procesamiento de la red"
      ],
      "metadata": {
        "id": "AJIFo3RQJH3a"
      }
    },
    {
      "cell_type": "code",
      "source": [
        "!nvidia-smi"
      ],
      "metadata": {
        "colab": {
          "base_uri": "https://localhost:8080/"
        },
        "id": "SlWJqmizJIoP",
        "outputId": "2a456e2a-066f-4842-f33c-21a1bc83dc36"
      },
      "execution_count": 2,
      "outputs": [
        {
          "output_type": "stream",
          "name": "stdout",
          "text": [
            "Sat May 14 23:31:52 2022       \n",
            "+-----------------------------------------------------------------------------+\n",
            "| NVIDIA-SMI 460.32.03    Driver Version: 460.32.03    CUDA Version: 11.2     |\n",
            "|-------------------------------+----------------------+----------------------+\n",
            "| GPU  Name        Persistence-M| Bus-Id        Disp.A | Volatile Uncorr. ECC |\n",
            "| Fan  Temp  Perf  Pwr:Usage/Cap|         Memory-Usage | GPU-Util  Compute M. |\n",
            "|                               |                      |               MIG M. |\n",
            "|===============================+======================+======================|\n",
            "|   0  Tesla T4            Off  | 00000000:00:04.0 Off |                    0 |\n",
            "| N/A   35C    P8     9W /  70W |      0MiB / 15109MiB |      0%      Default |\n",
            "|                               |                      |                  N/A |\n",
            "+-------------------------------+----------------------+----------------------+\n",
            "                                                                               \n",
            "+-----------------------------------------------------------------------------+\n",
            "| Processes:                                                                  |\n",
            "|  GPU   GI   CI        PID   Type   Process name                  GPU Memory |\n",
            "|        ID   ID                                                   Usage      |\n",
            "|=============================================================================|\n",
            "|  No running processes found                                                 |\n",
            "+-----------------------------------------------------------------------------+\n"
          ]
        }
      ]
    },
    {
      "cell_type": "markdown",
      "source": [
        "##Obtención y descarga del data set MNIST \n",
        "####Para el autoencoder solo se necesitarán las imágenes, mientras que para la clasificación si hacen falta los labels"
      ],
      "metadata": {
        "id": "p8wJdyo_7sW6"
      }
    },
    {
      "cell_type": "code",
      "source": [
        "(x_train, y_train),(x_test, y_test) = mnist.load_data() #Descargando el data set, y separando los datos"
      ],
      "metadata": {
        "id": "04fIJq597rMz",
        "colab": {
          "base_uri": "https://localhost:8080/"
        },
        "outputId": "fedebcd9-10b3-4c63-adea-a05ae6ca0188"
      },
      "execution_count": 3,
      "outputs": [
        {
          "output_type": "stream",
          "name": "stdout",
          "text": [
            "Downloading data from https://storage.googleapis.com/tensorflow/tf-keras-datasets/mnist.npz\n",
            "11493376/11490434 [==============================] - 0s 0us/step\n",
            "11501568/11490434 [==============================] - 0s 0us/step\n"
          ]
        }
      ]
    },
    {
      "cell_type": "markdown",
      "source": [
        "##Dimensión de los grupos de datos"
      ],
      "metadata": {
        "id": "dMADUtnZSvB4"
      }
    },
    {
      "cell_type": "code",
      "source": [
        "#Mostramos la dimensión de los grupos de datos expresados en:\n",
        "# (Número de registros, pixeles de largo, pixeles de ancho)\n",
        "print('Dimensión de la las imágenes de entrenamiento: ',x_train.shape)\n",
        "print('\\nDimensión de la los labels de entrenamiento: ',y_train.shape)\n",
        "print('\\nDimensión de las imágenes de validación: ',x_test.shape)\n",
        "print('\\nDimensión de los labels de validación: ',y_test.shape)"
      ],
      "metadata": {
        "colab": {
          "base_uri": "https://localhost:8080/"
        },
        "id": "3opBtV9CSx28",
        "outputId": "250dca84-0141-4302-fa8a-ccf8854c02d6"
      },
      "execution_count": 4,
      "outputs": [
        {
          "output_type": "stream",
          "name": "stdout",
          "text": [
            "Dimensión de la las imágenes de entrenamiento:  (60000, 28, 28)\n",
            "\n",
            "Dimensión de la los labels de entrenamiento:  (60000,)\n",
            "\n",
            "Dimensión de las imágenes de validación:  (10000, 28, 28)\n",
            "\n",
            "Dimensión de los labels de validación:  (10000,)\n"
          ]
        }
      ]
    },
    {
      "cell_type": "markdown",
      "source": [
        "###Mostramos las primeras 25 imágenes del data set para verificar que su lectura haya sido correcta"
      ],
      "metadata": {
        "id": "4vrnpuS7COku"
      }
    },
    {
      "cell_type": "code",
      "source": [
        "class_names = ['0','1','2','3','4','5','6','7','8','9'] #Definición de las clases, las cuales pueden ser encontradas en el link del data set\n",
        "\n",
        "plt.figure(figsize=(10,10)) #Dimensión de cada una de las imágenes\n",
        "for i in range(25):\n",
        "    plt.subplot(5,5,i+1) #Como se van a imprimir todas en el mismo plot, necesitamos construir subplots\n",
        "    plt.xticks([]) #Eliminando las referencias de escalas en el eje de las abscisas \n",
        "    plt.yticks([]) #Eliminando las referencias de escalas en el eje de las ordenadas\n",
        "    plt.grid(False) #Para no mostrar el grid de las gráficas\n",
        "    plt.imshow(x_train[i],'gray') #Mostrar la imágen\n",
        "    plt.xlabel(class_names[y_train[i]]) #Mostrar el título de la imágen en el eje de las abscisas\n",
        "plt.show() #Imprimir el plot completo"
      ],
      "metadata": {
        "colab": {
          "base_uri": "https://localhost:8080/",
          "height": 589
        },
        "id": "TA5SxzP4Bsaz",
        "outputId": "637d6cb1-c854-4cfd-e881-b549a45e9a60"
      },
      "execution_count": 5,
      "outputs": [
        {
          "output_type": "display_data",
          "data": {
            "text/plain": [
              "<Figure size 720x720 with 25 Axes>"
            ],
            "image/png": "[encoded data removed]"
          },
          "metadata": {}
        }
      ]
    },
    {
      "cell_type": "markdown",
      "source": [
        "##Normalizar Data\n",
        "####Con valores entre 0 y 1, y solo para la data de entrada"
      ],
      "metadata": {
        "id": "4F0t88alDYS5"
      }
    },
    {
      "cell_type": "code",
      "source": [
        "x_train = x_train / 255 #Normalizando data de entrenamiento\n",
        "x_test = x_test / 255 #Normalizando data de validación"
      ],
      "metadata": {
        "id": "S0DU0yIG9vJF"
      },
      "execution_count": 6,
      "outputs": []
    },
    {
      "cell_type": "markdown",
      "source": [
        "####Se impreme la primera imágen para verificar que todo sigue bien con la data recién normalizada"
      ],
      "metadata": {
        "id": "hFaZRkt5FrCz"
      }
    },
    {
      "cell_type": "code",
      "source": [
        "plt.xticks([]) #Eliminando las referencias de escalas en el eje de las abscisas \n",
        "plt.yticks([]) #Eliminando las referencias de escalas en el eje de las ordenadas\n",
        "plt.grid(False) #Para no mostrar el grid de las gráficas\n",
        "plt.imshow(x_train[0],'gray') #Mostrar la primera imágen con el data set recién normalizado\n",
        "plt.xlabel(class_names[y_train[0]]) #Mostrar el título de la imágen en el eje de las abscisas"
      ],
      "metadata": {
        "colab": {
          "base_uri": "https://localhost:8080/",
          "height": 279
        },
        "id": "NSWI2ewFFrvu",
        "outputId": "eec1b2a5-bb2b-4335-96b7-87bbccf8810f"
      },
      "execution_count": 7,
      "outputs": [
        {
          "output_type": "execute_result",
          "data": {
            "text/plain": [
              "Text(0.5, 0, '5')"
            ]
          },
          "metadata": {},
          "execution_count": 7
        },
        {
          "output_type": "display_data",
          "data": {
            "text/plain": [
              "<Figure size 432x288 with 1 Axes>"
            ],
            "image/png": "[encoded data removed]"
          },
          "metadata": {}
        }
      ]
    },
    {
      "cell_type": "markdown",
      "source": [
        "##Reshape de las imágenes\n",
        "###Ya que los autoencoders solo aceptan vectores de entrada en sus redes densas, no matrices"
      ],
      "metadata": {
        "id": "xkh63H8XEO2J"
      }
    },
    {
      "cell_type": "code",
      "source": [
        "x_train = x_train.reshape(60000,28*28) #Como las redes densas solo permiten datos en forma de vectores, y no matrices, hay que convertir la matriz en vector\n",
        "x_test = x_test.reshape(10000,28*28)\n",
        "\n",
        "print('Dimensión de la las imágenes de entrenamiento: ',x_train.shape) #Nueva dimensión de la data de entrenamiento\n",
        "print('\\nDimensión de la las imágenes de validación: ',x_test.shape) #Nueva dimensión de la data de validación"
      ],
      "metadata": {
        "colab": {
          "base_uri": "https://localhost:8080/"
        },
        "id": "7f9nZadAFTPB",
        "outputId": "c9954cfc-082a-4048-e852-bdea0df0bd54"
      },
      "execution_count": 8,
      "outputs": [
        {
          "output_type": "stream",
          "name": "stdout",
          "text": [
            "Dimensión de la las imágenes de entrenamiento:  (60000, 784)\n",
            "\n",
            "Dimensión de la las imágenes de validación:  (10000, 784)\n"
          ]
        }
      ]
    },
    {
      "cell_type": "markdown",
      "source": [
        "##One hot encoding\n",
        "####Esto solo se hace con la data de salida (Labels)"
      ],
      "metadata": {
        "id": "bNEaNVdVNMYX"
      }
    },
    {
      "cell_type": "code",
      "source": [
        "#No es conveniente que el target sea un vector unidimensional, lo recomendado es que como tenemos 10 clases o tipos de valores diferentes,\n",
        "# entonces se haga una matriz de 10 columnas (el num de las clases), y en donde el valor almacenado será 0 en cada una de ellas, menos en\n",
        "# la clase a la cual pertenezca la data de entrada en esa fila, que tendrá en su caso un 1. Esto es lo que se conoce como vector \n",
        "#one hot-encoding. Esto hace que el target sea esta nueva matriz, y no el vector unidimensional de antes.\n",
        "\n",
        "y_train2 = np_utils.to_categorical(y_train) #Matriz de one hot-encoding de los datos de entrenamiento\n",
        "y_test2 = np_utils.to_categorical(y_test) #Matriz de one hot-encoding de los datos de validación\n",
        "\n",
        "print('La nueva dimensión del target de entrenamiento es: ',y_train2.shape)\n",
        "print('\\nLa nueva dimensión del target de validación es: ',y_test2.shape)"
      ],
      "metadata": {
        "colab": {
          "base_uri": "https://localhost:8080/"
        },
        "id": "noGK4PzBGOWV",
        "outputId": "330856dc-c4e7-4c2a-f1fb-be4aa0cbd2ef"
      },
      "execution_count": 9,
      "outputs": [
        {
          "output_type": "stream",
          "name": "stdout",
          "text": [
            "La nueva dimensión del target de entrenamiento es:  (60000, 10)\n",
            "\n",
            "La nueva dimensión del target de validación es:  (10000, 10)\n"
          ]
        }
      ]
    },
    {
      "cell_type": "code",
      "source": [
        "print(y_train) #ANTES"
      ],
      "metadata": {
        "colab": {
          "base_uri": "https://localhost:8080/"
        },
        "id": "GUZVkOmWGhan",
        "outputId": "673c915c-fad4-4966-f5b6-4a4b55e811f3"
      },
      "execution_count": 10,
      "outputs": [
        {
          "output_type": "stream",
          "name": "stdout",
          "text": [
            "[5 0 4 ... 5 6 8]\n"
          ]
        }
      ]
    },
    {
      "cell_type": "code",
      "source": [
        "print(y_train2) #AHORA"
      ],
      "metadata": {
        "colab": {
          "base_uri": "https://localhost:8080/"
        },
        "id": "oYS3Ib4UGiRI",
        "outputId": "51eb61cc-1a08-458f-c1c9-ddc62304be1a"
      },
      "execution_count": 11,
      "outputs": [
        {
          "output_type": "stream",
          "name": "stdout",
          "text": [
            "[[0. 0. 0. ... 0. 0. 0.]\n",
            " [1. 0. 0. ... 0. 0. 0.]\n",
            " [0. 0. 0. ... 0. 0. 0.]\n",
            " ...\n",
            " [0. 0. 0. ... 0. 0. 0.]\n",
            " [0. 0. 0. ... 0. 0. 0.]\n",
            " [0. 0. 0. ... 0. 1. 0.]]\n"
          ]
        }
      ]
    },
    {
      "cell_type": "markdown",
      "source": [
        "##Dimensión de entrada y número de clases"
      ],
      "metadata": {
        "id": "TSnqxhhIGOvb"
      }
    },
    {
      "cell_type": "code",
      "source": [
        "input_dim = x_train.shape[1:] #Dimensión de entrada (cantidad de características de la data entrante, es decir, variables de entrada)\n",
        "\n",
        "num_class = y_train2.shape[1] #Número de clases (cantidad de neuronas de salidas) o clases a clasificar\n",
        "\n",
        "\n",
        "print('Dimensión de entrada:', input_dim)\n",
        "print('Número de clases:', num_class)"
      ],
      "metadata": {
        "colab": {
          "base_uri": "https://localhost:8080/"
        },
        "id": "BlB2_qZ1Gm4e",
        "outputId": "61be2d23-000c-4ed2-ab50-8923404d8457"
      },
      "execution_count": 12,
      "outputs": [
        {
          "output_type": "stream",
          "name": "stdout",
          "text": [
            "Dimensión de entrada: (784,)\n",
            "Número de clases: 10\n"
          ]
        }
      ]
    },
    {
      "cell_type": "markdown",
      "source": [
        "#Arquitecturas\n",
        "Serán 3 autoencoders apilados, que luego formarán el modelo de clasificación"
      ],
      "metadata": {
        "id": "qvgnSNIJGxBl"
      }
    },
    {
      "cell_type": "markdown",
      "source": [
        "##Autoencoder #1"
      ],
      "metadata": {
        "id": "LLh2azuAHrD6"
      }
    },
    {
      "cell_type": "code",
      "source": [
        " #Haremos ahora un autoencoder de 3 capas de encoder y 3 de decoder\n",
        "input_img = Input(shape=(784)) #Encoded1\n",
        "encoded1 = Dense(256, activation= 'relu')(input_img) #Encoded2\n",
        "encoded1 = Dense(128, activation= 'relu')(encoded1) #Encoded3\n",
        "\n",
        "encoded1 = Dense(64, activation= 'relu')(encoded1)#Latent layer\n",
        "\n",
        "decoded1 = Dense(128, activation= 'relu')(encoded1) #Decoded1\n",
        "decoded1 = Dense(256, activation= 'relu')(decoded1) #Decoded2\n",
        "decoded1 = Dense(784, activation= 'sigmoid')(decoded1) #Decoded3"
      ],
      "metadata": {
        "id": "te5QcprtHqQi"
      },
      "execution_count": 13,
      "outputs": []
    },
    {
      "cell_type": "markdown",
      "source": [
        "###Guardamos la capa latente, para luego usarla en la clasificación"
      ],
      "metadata": {
        "id": "Btqdc77VJR0j"
      }
    },
    {
      "cell_type": "code",
      "source": [
        "encoder1 = Model(input_img,encoded1) #Modelo que va desde el encoder, a la data latente. Es el que comprime la data"
      ],
      "metadata": {
        "id": "uOkUNEcyJYzB"
      },
      "execution_count": 14,
      "outputs": []
    },
    {
      "cell_type": "markdown",
      "source": [
        "###Configuraciones finales"
      ],
      "metadata": {
        "id": "G0GaepZgJsv1"
      }
    },
    {
      "cell_type": "code",
      "source": [
        "autoencoder1 = Model(input_img,decoded1) #Modelo completo del autoencoder, con su (entrada, salida)\n",
        "autoencoder1.compile(optimizer = 'adam', loss='binary_crossentropy') #Compilamos el modelo con su optimizador y su pérdida. La función de pérdida será la entropía binaria de ese modelo.\n",
        "\n",
        "autoencoder1.summary() #Resumen del modelo tipo tabla\n",
        "plot_model(autoencoder1, to_file='autoencoder.jpg', show_shapes=True) #Resumen del modelo tipo plot en imágen"
      ],
      "metadata": {
        "colab": {
          "base_uri": "https://localhost:8080/",
          "height": 0
        },
        "id": "tisA8S4QJMeI",
        "outputId": "886d983f-f4bb-48dc-8a8f-1afb832bb933"
      },
      "execution_count": 15,
      "outputs": [
        {
          "output_type": "stream",
          "name": "stdout",
          "text": [
            "Model: \"model_1\"\n",
            "_________________________________________________________________\n",
            " Layer (type)                Output Shape              Param #   \n",
            "=================================================================\n",
            " input_1 (InputLayer)        [(None, 784)]             0         \n",
            "                                                                 \n",
            " dense (Dense)               (None, 256)               200960    \n",
            "                                                                 \n",
            " dense_1 (Dense)             (None, 128)               32896     \n",
            "                                                                 \n",
            " dense_2 (Dense)             (None, 64)                8256      \n",
            "                                                                 \n",
            " dense_3 (Dense)             (None, 128)               8320      \n",
            "                                                                 \n",
            " dense_4 (Dense)             (None, 256)               33024     \n",
            "                                                                 \n",
            " dense_5 (Dense)             (None, 784)               201488    \n",
            "                                                                 \n",
            "=================================================================\n",
            "Total params: 484,944\n",
            "Trainable params: 484,944\n",
            "Non-trainable params: 0\n",
            "_________________________________________________________________\n"
          ]
        },
        {
          "output_type": "execute_result",
          "data": {
            "text/plain": [
              "<IPython.core.display.Image object>"
            ],
            "image/jpeg": "[encoded data removed]"
          },
          "metadata": {},
          "execution_count": 15
        }
      ]
    },
    {
      "cell_type": "markdown",
      "source": [
        "###Resumen del encoder, cuya última capa es la latente que necesitamos"
      ],
      "metadata": {
        "id": "Yh1IrqspLrzh"
      }
    },
    {
      "cell_type": "code",
      "source": [
        "encoder1.summary()"
      ],
      "metadata": {
        "colab": {
          "base_uri": "https://localhost:8080/"
        },
        "id": "7BynSR8RJ4iG",
        "outputId": "3633fe28-3ef1-4431-b486-173fb27bed61"
      },
      "execution_count": 16,
      "outputs": [
        {
          "output_type": "stream",
          "name": "stdout",
          "text": [
            "Model: \"model\"\n",
            "_________________________________________________________________\n",
            " Layer (type)                Output Shape              Param #   \n",
            "=================================================================\n",
            " input_1 (InputLayer)        [(None, 784)]             0         \n",
            "                                                                 \n",
            " dense (Dense)               (None, 256)               200960    \n",
            "                                                                 \n",
            " dense_1 (Dense)             (None, 128)               32896     \n",
            "                                                                 \n",
            " dense_2 (Dense)             (None, 64)                8256      \n",
            "                                                                 \n",
            "=================================================================\n",
            "Total params: 242,112\n",
            "Trainable params: 242,112\n",
            "Non-trainable params: 0\n",
            "_________________________________________________________________\n"
          ]
        }
      ]
    },
    {
      "cell_type": "markdown",
      "source": [
        "###Obtenemos la capa latente del modelo"
      ],
      "metadata": {
        "id": "KSMLgkSnLjhj"
      }
    },
    {
      "cell_type": "code",
      "source": [
        "latent_layer1 = encoder1.layers[-1]"
      ],
      "metadata": {
        "id": "UKVKD6jhKCNL"
      },
      "execution_count": 17,
      "outputs": []
    },
    {
      "cell_type": "markdown",
      "source": [
        "###Entrenando el primer modelo y sus neuronas"
      ],
      "metadata": {
        "id": "r5--92aYGxYQ"
      }
    },
    {
      "cell_type": "code",
      "source": [
        "history1 = autoencoder1.fit(x_train,x_train, validation_data=(x_test,x_test), epochs=150, batch_size=256, shuffle=True) #Entrenando la red.\n",
        "#Recordemos que la data de entrada y el target es el mismo"
      ],
      "metadata": {
        "colab": {
          "base_uri": "https://localhost:8080/"
        },
        "id": "U6Jgo1spL6cV",
        "outputId": "8397b1eb-6e99-41f5-e84f-56e0c3466bf8"
      },
      "execution_count": 18,
      "outputs": [
        {
          "output_type": "stream",
          "name": "stdout",
          "text": [
            "Epoch 1/150\n",
            "235/235 [==============================] - 6s 5ms/step - loss: 0.2171 - val_loss: 0.1392\n",
            "Epoch 2/150\n",
            "235/235 [==============================] - 1s 4ms/step - loss: 0.1242 - val_loss: 0.1133\n",
            "Epoch 3/150\n",
            "235/235 [==============================] - 1s 4ms/step - loss: 0.1084 - val_loss: 0.1029\n",
            "Epoch 4/150\n",
            "235/235 [==============================] - 1s 4ms/step - loss: 0.1012 - val_loss: 0.0972\n",
            "Epoch 5/150\n",
            "235/235 [==============================] - 2s 6ms/step - loss: 0.0964 - val_loss: 0.0938\n",
            "Epoch 6/150\n",
            "235/235 [==============================] - 2s 7ms/step - loss: 0.0930 - val_loss: 0.0909\n",
            "Epoch 7/150\n",
            "235/235 [==============================] - 2s 8ms/step - loss: 0.0904 - val_loss: 0.0887\n",
            "Epoch 8/150\n",
            "235/235 [==============================] - 1s 5ms/step - loss: 0.0884 - val_loss: 0.0866\n",
            "Epoch 9/150\n",
            "235/235 [==============================] - 1s 4ms/step - loss: 0.0868 - val_loss: 0.0852\n",
            "Epoch 10/150\n",
            "235/235 [==============================] - 1s 4ms/step - loss: 0.0852 - val_loss: 0.0842\n",
            "Epoch 11/150\n",
            "235/235 [==============================] - 1s 4ms/step - loss: 0.0842 - val_loss: 0.0833\n",
            "Epoch 12/150\n",
            "235/235 [==============================] - 1s 4ms/step - loss: 0.0830 - val_loss: 0.0822\n",
            "Epoch 13/150\n",
            "235/235 [==============================] - 1s 4ms/step - loss: 0.0821 - val_loss: 0.0809\n",
            "Epoch 14/150\n",
            "235/235 [==============================] - 1s 4ms/step - loss: 0.0814 - val_loss: 0.0804\n",
            "Epoch 15/150\n",
            "235/235 [==============================] - 1s 5ms/step - loss: 0.0806 - val_loss: 0.0802\n",
            "Epoch 16/150\n",
            "235/235 [==============================] - 1s 5ms/step - loss: 0.0799 - val_loss: 0.0791\n",
            "Epoch 17/150\n",
            "235/235 [==============================] - 1s 5ms/step - loss: 0.0793 - val_loss: 0.0785\n",
            "Epoch 18/150\n",
            "235/235 [==============================] - 1s 4ms/step - loss: 0.0788 - val_loss: 0.0785\n",
            "Epoch 19/150\n",
            "235/235 [==============================] - 1s 5ms/step - loss: 0.0782 - val_loss: 0.0776\n",
            "Epoch 20/150\n",
            "235/235 [==============================] - 1s 5ms/step - loss: 0.0777 - val_loss: 0.0773\n",
            "Epoch 21/150\n",
            "235/235 [==============================] - 2s 7ms/step - loss: 0.0773 - val_loss: 0.0770\n",
            "Epoch 22/150\n",
            "235/235 [==============================] - 2s 9ms/step - loss: 0.0770 - val_loss: 0.0768\n",
            "Epoch 23/150\n",
            "235/235 [==============================] - 2s 9ms/step - loss: 0.0766 - val_loss: 0.0765\n",
            "Epoch 24/150\n",
            "235/235 [==============================] - 2s 8ms/step - loss: 0.0763 - val_loss: 0.0757\n",
            "Epoch 25/150\n",
            "235/235 [==============================] - 2s 8ms/step - loss: 0.0760 - val_loss: 0.0767\n",
            "Epoch 26/150\n",
            "235/235 [==============================] - 2s 7ms/step - loss: 0.0757 - val_loss: 0.0755\n",
            "Epoch 27/150\n",
            "235/235 [==============================] - 2s 8ms/step - loss: 0.0756 - val_loss: 0.0752\n",
            "Epoch 28/150\n",
            "235/235 [==============================] - 2s 8ms/step - loss: 0.0753 - val_loss: 0.0749\n",
            "Epoch 29/150\n",
            "235/235 [==============================] - 2s 8ms/step - loss: 0.0751 - val_loss: 0.0752\n",
            "Epoch 30/150\n",
            "235/235 [==============================] - 2s 8ms/step - loss: 0.0749 - val_loss: 0.0746\n",
            "Epoch 31/150\n",
            "235/235 [==============================] - 2s 8ms/step - loss: 0.0747 - val_loss: 0.0746\n",
            "Epoch 32/150\n",
            "235/235 [==============================] - 2s 8ms/step - loss: 0.0744 - val_loss: 0.0743\n",
            "Epoch 33/150\n",
            "235/235 [==============================] - 2s 6ms/step - loss: 0.0743 - val_loss: 0.0740\n",
            "Epoch 34/150\n",
            "235/235 [==============================] - 2s 7ms/step - loss: 0.0742 - val_loss: 0.0738\n",
            "Epoch 35/150\n",
            "235/235 [==============================] - 1s 4ms/step - loss: 0.0740 - val_loss: 0.0739\n",
            "Epoch 36/150\n",
            "235/235 [==============================] - 1s 4ms/step - loss: 0.0739 - val_loss: 0.0736\n",
            "Epoch 37/150\n",
            "235/235 [==============================] - 2s 7ms/step - loss: 0.0737 - val_loss: 0.0739\n",
            "Epoch 38/150\n",
            "235/235 [==============================] - 2s 7ms/step - loss: 0.0736 - val_loss: 0.0736\n",
            "Epoch 39/150\n",
            "235/235 [==============================] - 1s 4ms/step - loss: 0.0735 - val_loss: 0.0733\n",
            "Epoch 40/150\n",
            "235/235 [==============================] - 1s 6ms/step - loss: 0.0733 - val_loss: 0.0732\n",
            "Epoch 41/150\n",
            "235/235 [==============================] - 1s 6ms/step - loss: 0.0732 - val_loss: 0.0733\n",
            "Epoch 42/150\n",
            "235/235 [==============================] - 1s 6ms/step - loss: 0.0731 - val_loss: 0.0730\n",
            "Epoch 43/150\n",
            "235/235 [==============================] - 1s 4ms/step - loss: 0.0730 - val_loss: 0.0729\n",
            "Epoch 44/150\n",
            "235/235 [==============================] - 1s 4ms/step - loss: 0.0729 - val_loss: 0.0729\n",
            "Epoch 45/150\n",
            "235/235 [==============================] - 1s 5ms/step - loss: 0.0727 - val_loss: 0.0726\n",
            "Epoch 46/150\n",
            "235/235 [==============================] - 1s 4ms/step - loss: 0.0726 - val_loss: 0.0727\n",
            "Epoch 47/150\n",
            "235/235 [==============================] - 1s 4ms/step - loss: 0.0725 - val_loss: 0.0723\n",
            "Epoch 48/150\n",
            "235/235 [==============================] - 2s 7ms/step - loss: 0.0724 - val_loss: 0.0726\n",
            "Epoch 49/150\n",
            "235/235 [==============================] - 1s 5ms/step - loss: 0.0723 - val_loss: 0.0721\n",
            "Epoch 50/150\n",
            "235/235 [==============================] - 1s 4ms/step - loss: 0.0722 - val_loss: 0.0724\n",
            "Epoch 51/150\n",
            "235/235 [==============================] - 1s 5ms/step - loss: 0.0722 - val_loss: 0.0719\n",
            "Epoch 52/150\n",
            "235/235 [==============================] - 2s 7ms/step - loss: 0.0720 - val_loss: 0.0719\n",
            "Epoch 53/150\n",
            "235/235 [==============================] - 2s 7ms/step - loss: 0.0719 - val_loss: 0.0720\n",
            "Epoch 54/150\n",
            "235/235 [==============================] - 1s 6ms/step - loss: 0.0719 - val_loss: 0.0719\n",
            "Epoch 55/150\n",
            "235/235 [==============================] - 1s 4ms/step - loss: 0.0718 - val_loss: 0.0719\n",
            "Epoch 56/150\n",
            "235/235 [==============================] - 1s 6ms/step - loss: 0.0717 - val_loss: 0.0717\n",
            "Epoch 57/150\n",
            "235/235 [==============================] - 1s 6ms/step - loss: 0.0716 - val_loss: 0.0717\n",
            "Epoch 58/150\n",
            "235/235 [==============================] - 2s 7ms/step - loss: 0.0716 - val_loss: 0.0721\n",
            "Epoch 59/150\n",
            "235/235 [==============================] - 1s 5ms/step - loss: 0.0715 - val_loss: 0.0717\n",
            "Epoch 60/150\n",
            "235/235 [==============================] - 1s 4ms/step - loss: 0.0714 - val_loss: 0.0713\n",
            "Epoch 61/150\n",
            "235/235 [==============================] - 1s 4ms/step - loss: 0.0713 - val_loss: 0.0716\n",
            "Epoch 62/150\n",
            "235/235 [==============================] - 1s 4ms/step - loss: 0.0713 - val_loss: 0.0714\n",
            "Epoch 63/150\n",
            "235/235 [==============================] - 1s 4ms/step - loss: 0.0713 - val_loss: 0.0713\n",
            "Epoch 64/150\n",
            "235/235 [==============================] - 1s 6ms/step - loss: 0.0712 - val_loss: 0.0712\n",
            "Epoch 65/150\n",
            "235/235 [==============================] - 1s 6ms/step - loss: 0.0711 - val_loss: 0.0711\n",
            "Epoch 66/150\n",
            "235/235 [==============================] - 1s 6ms/step - loss: 0.0711 - val_loss: 0.0713\n",
            "Epoch 67/150\n",
            "235/235 [==============================] - 1s 6ms/step - loss: 0.0710 - val_loss: 0.0711\n",
            "Epoch 68/150\n",
            "235/235 [==============================] - 2s 8ms/step - loss: 0.0709 - val_loss: 0.0710\n",
            "Epoch 69/150\n",
            "235/235 [==============================] - 1s 4ms/step - loss: 0.0709 - val_loss: 0.0712\n",
            "Epoch 70/150\n",
            "235/235 [==============================] - 1s 4ms/step - loss: 0.0708 - val_loss: 0.0708\n",
            "Epoch 71/150\n",
            "235/235 [==============================] - 1s 4ms/step - loss: 0.0708 - val_loss: 0.0708\n",
            "Epoch 72/150\n",
            "235/235 [==============================] - 1s 5ms/step - loss: 0.0707 - val_loss: 0.0708\n",
            "Epoch 73/150\n",
            "235/235 [==============================] - 1s 4ms/step - loss: 0.0707 - val_loss: 0.0707\n",
            "Epoch 74/150\n",
            "235/235 [==============================] - 1s 5ms/step - loss: 0.0706 - val_loss: 0.0712\n",
            "Epoch 75/150\n",
            "235/235 [==============================] - 1s 5ms/step - loss: 0.0706 - val_loss: 0.0710\n",
            "Epoch 76/150\n",
            "235/235 [==============================] - 1s 5ms/step - loss: 0.0705 - val_loss: 0.0709\n",
            "Epoch 77/150\n",
            "235/235 [==============================] - 1s 4ms/step - loss: 0.0705 - val_loss: 0.0708\n",
            "Epoch 78/150\n",
            "235/235 [==============================] - 1s 5ms/step - loss: 0.0704 - val_loss: 0.0707\n",
            "Epoch 79/150\n",
            "235/235 [==============================] - 1s 5ms/step - loss: 0.0704 - val_loss: 0.0712\n",
            "Epoch 80/150\n",
            "235/235 [==============================] - 1s 6ms/step - loss: 0.0703 - val_loss: 0.0704\n",
            "Epoch 81/150\n",
            "235/235 [==============================] - 1s 4ms/step - loss: 0.0703 - val_loss: 0.0704\n",
            "Epoch 82/150\n",
            "235/235 [==============================] - 1s 5ms/step - loss: 0.0702 - val_loss: 0.0705\n",
            "Epoch 83/150\n",
            "235/235 [==============================] - 1s 4ms/step - loss: 0.0702 - val_loss: 0.0704\n",
            "Epoch 84/150\n",
            "235/235 [==============================] - 1s 5ms/step - loss: 0.0701 - val_loss: 0.0704\n",
            "Epoch 85/150\n",
            "235/235 [==============================] - 1s 4ms/step - loss: 0.0701 - val_loss: 0.0704\n",
            "Epoch 86/150\n",
            "235/235 [==============================] - 1s 4ms/step - loss: 0.0701 - val_loss: 0.0704\n",
            "Epoch 87/150\n",
            "235/235 [==============================] - 1s 4ms/step - loss: 0.0700 - val_loss: 0.0700\n",
            "Epoch 88/150\n",
            "235/235 [==============================] - 1s 4ms/step - loss: 0.0700 - val_loss: 0.0702\n",
            "Epoch 89/150\n",
            "235/235 [==============================] - 1s 5ms/step - loss: 0.0700 - val_loss: 0.0700\n",
            "Epoch 90/150\n",
            "235/235 [==============================] - 1s 5ms/step - loss: 0.0699 - val_loss: 0.0700\n",
            "Epoch 91/150\n",
            "235/235 [==============================] - 1s 4ms/step - loss: 0.0699 - val_loss: 0.0699\n",
            "Epoch 92/150\n",
            "235/235 [==============================] - 1s 4ms/step - loss: 0.0698 - val_loss: 0.0702\n",
            "Epoch 93/150\n",
            "235/235 [==============================] - 1s 4ms/step - loss: 0.0698 - val_loss: 0.0699\n",
            "Epoch 94/150\n",
            "235/235 [==============================] - 1s 4ms/step - loss: 0.0698 - val_loss: 0.0700\n",
            "Epoch 95/150\n",
            "235/235 [==============================] - 1s 4ms/step - loss: 0.0698 - val_loss: 0.0699\n",
            "Epoch 96/150\n",
            "235/235 [==============================] - 1s 4ms/step - loss: 0.0698 - val_loss: 0.0698\n",
            "Epoch 97/150\n",
            "235/235 [==============================] - 1s 4ms/step - loss: 0.0698 - val_loss: 0.0699\n",
            "Epoch 98/150\n",
            "235/235 [==============================] - 1s 4ms/step - loss: 0.0697 - val_loss: 0.0699\n",
            "Epoch 99/150\n",
            "235/235 [==============================] - 1s 4ms/step - loss: 0.0697 - val_loss: 0.0702\n",
            "Epoch 100/150\n",
            "235/235 [==============================] - 1s 4ms/step - loss: 0.0697 - val_loss: 0.0698\n",
            "Epoch 101/150\n",
            "235/235 [==============================] - 1s 4ms/step - loss: 0.0697 - val_loss: 0.0698\n",
            "Epoch 102/150\n",
            "235/235 [==============================] - 1s 4ms/step - loss: 0.0696 - val_loss: 0.0697\n",
            "Epoch 103/150\n",
            "235/235 [==============================] - 1s 4ms/step - loss: 0.0696 - val_loss: 0.0697\n",
            "Epoch 104/150\n",
            "235/235 [==============================] - 1s 4ms/step - loss: 0.0695 - val_loss: 0.0698\n",
            "Epoch 105/150\n",
            "235/235 [==============================] - 1s 4ms/step - loss: 0.0696 - val_loss: 0.0696\n",
            "Epoch 106/150\n",
            "235/235 [==============================] - 1s 4ms/step - loss: 0.0695 - val_loss: 0.0700\n",
            "Epoch 107/150\n",
            "235/235 [==============================] - 1s 4ms/step - loss: 0.0695 - val_loss: 0.0695\n",
            "Epoch 108/150\n",
            "235/235 [==============================] - 1s 4ms/step - loss: 0.0695 - val_loss: 0.0698\n",
            "Epoch 109/150\n",
            "235/235 [==============================] - 1s 5ms/step - loss: 0.0695 - val_loss: 0.0698\n",
            "Epoch 110/150\n",
            "235/235 [==============================] - 1s 6ms/step - loss: 0.0694 - val_loss: 0.0696\n",
            "Epoch 111/150\n",
            "235/235 [==============================] - 1s 6ms/step - loss: 0.0694 - val_loss: 0.0696\n",
            "Epoch 112/150\n",
            "235/235 [==============================] - 1s 4ms/step - loss: 0.0694 - val_loss: 0.0699\n",
            "Epoch 113/150\n",
            "235/235 [==============================] - 2s 6ms/step - loss: 0.0694 - val_loss: 0.0698\n",
            "Epoch 114/150\n",
            "235/235 [==============================] - 1s 6ms/step - loss: 0.0694 - val_loss: 0.0695\n",
            "Epoch 115/150\n",
            "235/235 [==============================] - 2s 7ms/step - loss: 0.0694 - val_loss: 0.0694\n",
            "Epoch 116/150\n",
            "235/235 [==============================] - 2s 6ms/step - loss: 0.0693 - val_loss: 0.0694\n",
            "Epoch 117/150\n",
            "235/235 [==============================] - 1s 6ms/step - loss: 0.0693 - val_loss: 0.0694\n",
            "Epoch 118/150\n",
            "235/235 [==============================] - 2s 6ms/step - loss: 0.0693 - val_loss: 0.0694\n",
            "Epoch 119/150\n",
            "235/235 [==============================] - 1s 6ms/step - loss: 0.0693 - val_loss: 0.0699\n",
            "Epoch 120/150\n",
            "235/235 [==============================] - 2s 7ms/step - loss: 0.0693 - val_loss: 0.0693\n",
            "Epoch 121/150\n",
            "235/235 [==============================] - 1s 6ms/step - loss: 0.0693 - val_loss: 0.0700\n",
            "Epoch 122/150\n",
            "235/235 [==============================] - 1s 5ms/step - loss: 0.0693 - val_loss: 0.0699\n",
            "Epoch 123/150\n",
            "235/235 [==============================] - 2s 7ms/step - loss: 0.0693 - val_loss: 0.0695\n",
            "Epoch 124/150\n",
            "235/235 [==============================] - 2s 8ms/step - loss: 0.0692 - val_loss: 0.0693\n",
            "Epoch 125/150\n",
            "235/235 [==============================] - 1s 6ms/step - loss: 0.0692 - val_loss: 0.0697\n",
            "Epoch 126/150\n",
            "235/235 [==============================] - 1s 4ms/step - loss: 0.0692 - val_loss: 0.0694\n",
            "Epoch 127/150\n",
            "235/235 [==============================] - 1s 5ms/step - loss: 0.0692 - val_loss: 0.0697\n",
            "Epoch 128/150\n",
            "235/235 [==============================] - 1s 4ms/step - loss: 0.0692 - val_loss: 0.0693\n",
            "Epoch 129/150\n",
            "235/235 [==============================] - 1s 5ms/step - loss: 0.0692 - val_loss: 0.0697\n",
            "Epoch 130/150\n",
            "235/235 [==============================] - 1s 4ms/step - loss: 0.0692 - val_loss: 0.0693\n",
            "Epoch 131/150\n",
            "235/235 [==============================] - 1s 4ms/step - loss: 0.0691 - val_loss: 0.0695\n",
            "Epoch 132/150\n",
            "235/235 [==============================] - 1s 4ms/step - loss: 0.0692 - val_loss: 0.0695\n",
            "Epoch 133/150\n",
            "235/235 [==============================] - 1s 4ms/step - loss: 0.0691 - val_loss: 0.0693\n",
            "Epoch 134/150\n",
            "235/235 [==============================] - 1s 4ms/step - loss: 0.0691 - val_loss: 0.0696\n",
            "Epoch 135/150\n",
            "235/235 [==============================] - 1s 4ms/step - loss: 0.0691 - val_loss: 0.0693\n",
            "Epoch 136/150\n",
            "235/235 [==============================] - 1s 4ms/step - loss: 0.0691 - val_loss: 0.0694\n",
            "Epoch 137/150\n",
            "235/235 [==============================] - 1s 4ms/step - loss: 0.0691 - val_loss: 0.0694\n",
            "Epoch 138/150\n",
            "235/235 [==============================] - 1s 4ms/step - loss: 0.0691 - val_loss: 0.0694\n",
            "Epoch 139/150\n",
            "235/235 [==============================] - 1s 5ms/step - loss: 0.0691 - val_loss: 0.0695\n",
            "Epoch 140/150\n",
            "235/235 [==============================] - 1s 4ms/step - loss: 0.0691 - val_loss: 0.0692\n",
            "Epoch 141/150\n",
            "235/235 [==============================] - 1s 5ms/step - loss: 0.0691 - val_loss: 0.0692\n",
            "Epoch 142/150\n",
            "235/235 [==============================] - 1s 4ms/step - loss: 0.0690 - val_loss: 0.0693\n",
            "Epoch 143/150\n",
            "235/235 [==============================] - 1s 5ms/step - loss: 0.0690 - val_loss: 0.0692\n",
            "Epoch 144/150\n",
            "235/235 [==============================] - 1s 5ms/step - loss: 0.0690 - val_loss: 0.0694\n",
            "Epoch 145/150\n",
            "235/235 [==============================] - 1s 5ms/step - loss: 0.0690 - val_loss: 0.0692\n",
            "Epoch 146/150\n",
            "235/235 [==============================] - 1s 4ms/step - loss: 0.0690 - val_loss: 0.0692\n",
            "Epoch 147/150\n",
            "235/235 [==============================] - 1s 5ms/step - loss: 0.0690 - val_loss: 0.0692\n",
            "Epoch 148/150\n",
            "235/235 [==============================] - 1s 5ms/step - loss: 0.0690 - val_loss: 0.0691\n",
            "Epoch 149/150\n",
            "235/235 [==============================] - 1s 4ms/step - loss: 0.0689 - val_loss: 0.0694\n",
            "Epoch 150/150\n",
            "235/235 [==============================] - 1s 4ms/step - loss: 0.0690 - val_loss: 0.0693\n"
          ]
        }
      ]
    },
    {
      "cell_type": "markdown",
      "source": [
        "###Guardamos el modelo"
      ],
      "metadata": {
        "id": "7xP0TOFmOpFd"
      }
    },
    {
      "cell_type": "code",
      "source": [
        "autoencoder1.save_weights('autoencoder1.h5')"
      ],
      "metadata": {
        "id": "fiICsd87OmXO"
      },
      "execution_count": 19,
      "outputs": []
    },
    {
      "cell_type": "markdown",
      "source": [
        "##Autoencoder #2"
      ],
      "metadata": {
        "id": "3bpjtyNeMN1y"
      }
    },
    {
      "cell_type": "code",
      "source": [
        " #Haremos ahora un autoencoder de 3 capas de encoder y 3 de decoder\n",
        "input_img = Input(shape=(784)) #Encoded1\n",
        "encoded2 = Dense(128, activation= 'relu')(input_img) #Encoded2\n",
        "encoded2 = Dense(64, activation= 'relu')(encoded2) #Encoded3\n",
        "\n",
        "encoded2 = Dense(32, activation= 'relu')(encoded2)#Latent layer\n",
        "\n",
        "decoded2 = Dense(64, activation= 'relu')(encoded2) #Decoded1\n",
        "decoded2 = Dense(128, activation= 'relu')(decoded2) #Decoded2\n",
        "decoded2 = Dense(784, activation= 'sigmoid')(decoded2) #Decoded3"
      ],
      "metadata": {
        "id": "3oI8wLpKMVEq"
      },
      "execution_count": 20,
      "outputs": []
    },
    {
      "cell_type": "markdown",
      "source": [
        "###Guardamos la capa latente, para luego usarla en la clasificación"
      ],
      "metadata": {
        "id": "ekPkapX3MnvX"
      }
    },
    {
      "cell_type": "code",
      "source": [
        "encoder2 = Model(input_img,encoded2) #Modelo que va desde el encoder, a la data latente. Es el que comprime la data"
      ],
      "metadata": {
        "id": "PBqU3vlFMoIe"
      },
      "execution_count": 21,
      "outputs": []
    },
    {
      "cell_type": "markdown",
      "source": [
        "###Configuraciones finales"
      ],
      "metadata": {
        "id": "NlIsYcqFMyhX"
      }
    },
    {
      "cell_type": "code",
      "source": [
        "autoencoder2 = Model(input_img,decoded2) #Modelo completo del autoencoder, con su (entrada, salida)\n",
        "autoencoder2.compile(optimizer = 'adam', loss='binary_crossentropy') #Compilamos el modelo con su optimizador y su pérdida. La función de pérdida será la entropía binaria de ese modelo.\n",
        "\n",
        "autoencoder2.summary() #Resumen del modelo tipo tabla\n",
        "plot_model(autoencoder2, to_file='autoencoder.jpg', show_shapes=True) #Resumen del modelo tipo plot en imágen"
      ],
      "metadata": {
        "colab": {
          "base_uri": "https://localhost:8080/",
          "height": 0
        },
        "id": "Syzz0Ga-M0q8",
        "outputId": "73d9268e-8eed-47af-a6fb-32dde048daf2"
      },
      "execution_count": 22,
      "outputs": [
        {
          "output_type": "stream",
          "name": "stdout",
          "text": [
            "Model: \"model_3\"\n",
            "_________________________________________________________________\n",
            " Layer (type)                Output Shape              Param #   \n",
            "=================================================================\n",
            " input_2 (InputLayer)        [(None, 784)]             0         \n",
            "                                                                 \n",
            " dense_6 (Dense)             (None, 128)               100480    \n",
            "                                                                 \n",
            " dense_7 (Dense)             (None, 64)                8256      \n",
            "                                                                 \n",
            " dense_8 (Dense)             (None, 32)                2080      \n",
            "                                                                 \n",
            " dense_9 (Dense)             (None, 64)                2112      \n",
            "                                                                 \n",
            " dense_10 (Dense)            (None, 128)               8320      \n",
            "                                                                 \n",
            " dense_11 (Dense)            (None, 784)               101136    \n",
            "                                                                 \n",
            "=================================================================\n",
            "Total params: 222,384\n",
            "Trainable params: 222,384\n",
            "Non-trainable params: 0\n",
            "_________________________________________________________________\n"
          ]
        },
        {
          "output_type": "execute_result",
          "data": {
            "text/plain": [
              "<IPython.core.display.Image object>"
            ],
            "image/jpeg": "[encoded data removed]"
          },
          "metadata": {},
          "execution_count": 22
        }
      ]
    },
    {
      "cell_type": "markdown",
      "source": [
        "###Resumen del encoder, cuya última capa es la latente que necesitamos"
      ],
      "metadata": {
        "id": "AO1To5xeM7_G"
      }
    },
    {
      "cell_type": "code",
      "source": [
        "encoder2.summary()"
      ],
      "metadata": {
        "colab": {
          "base_uri": "https://localhost:8080/"
        },
        "id": "1bokCeHZM83x",
        "outputId": "438c35c4-1ef8-4ea5-ad98-7aee08fa766d"
      },
      "execution_count": 23,
      "outputs": [
        {
          "output_type": "stream",
          "name": "stdout",
          "text": [
            "Model: \"model_2\"\n",
            "_________________________________________________________________\n",
            " Layer (type)                Output Shape              Param #   \n",
            "=================================================================\n",
            " input_2 (InputLayer)        [(None, 784)]             0         \n",
            "                                                                 \n",
            " dense_6 (Dense)             (None, 128)               100480    \n",
            "                                                                 \n",
            " dense_7 (Dense)             (None, 64)                8256      \n",
            "                                                                 \n",
            " dense_8 (Dense)             (None, 32)                2080      \n",
            "                                                                 \n",
            "=================================================================\n",
            "Total params: 110,816\n",
            "Trainable params: 110,816\n",
            "Non-trainable params: 0\n",
            "_________________________________________________________________\n"
          ]
        }
      ]
    },
    {
      "cell_type": "markdown",
      "source": [
        "###Obtenemos la capa latente del modelo"
      ],
      "metadata": {
        "id": "Fmuyo7KcPV1R"
      }
    },
    {
      "cell_type": "code",
      "source": [
        "latent_layer2 = encoder2.layers[-1]"
      ],
      "metadata": {
        "id": "OguCtBtGPYD4"
      },
      "execution_count": 24,
      "outputs": []
    },
    {
      "cell_type": "markdown",
      "source": [
        "###Entrenando el segundo modelo y sus neuronas"
      ],
      "metadata": {
        "id": "1zRezgioPdfn"
      }
    },
    {
      "cell_type": "code",
      "source": [
        "history2 = autoencoder2.fit(x_train,x_train, validation_data=(x_test,x_test), epochs=150, batch_size=256, shuffle=True) #Entrenando la red.\n",
        "#Recordemos que la data de entrada y el target es el mismo"
      ],
      "metadata": {
        "colab": {
          "base_uri": "https://localhost:8080/"
        },
        "id": "ad_InUnsPgAP",
        "outputId": "1cfbc3a7-b2cb-48a4-b767-13fbe0527a01"
      },
      "execution_count": 25,
      "outputs": [
        {
          "output_type": "stream",
          "name": "stdout",
          "text": [
            "Epoch 1/150\n",
            "235/235 [==============================] - 2s 6ms/step - loss: 0.2415 - val_loss: 0.1661\n",
            "Epoch 2/150\n",
            "235/235 [==============================] - 1s 4ms/step - loss: 0.1490 - val_loss: 0.1376\n",
            "Epoch 3/150\n",
            "235/235 [==============================] - 1s 4ms/step - loss: 0.1292 - val_loss: 0.1225\n",
            "Epoch 4/150\n",
            "235/235 [==============================] - 1s 4ms/step - loss: 0.1215 - val_loss: 0.1174\n",
            "Epoch 5/150\n",
            "235/235 [==============================] - 1s 4ms/step - loss: 0.1165 - val_loss: 0.1124\n",
            "Epoch 6/150\n",
            "235/235 [==============================] - 1s 4ms/step - loss: 0.1119 - val_loss: 0.1087\n",
            "Epoch 7/150\n",
            "235/235 [==============================] - 1s 4ms/step - loss: 0.1090 - val_loss: 0.1069\n",
            "Epoch 8/150\n",
            "235/235 [==============================] - 1s 4ms/step - loss: 0.1069 - val_loss: 0.1048\n",
            "Epoch 9/150\n",
            "235/235 [==============================] - 1s 4ms/step - loss: 0.1049 - val_loss: 0.1030\n",
            "Epoch 10/150\n",
            "235/235 [==============================] - 1s 4ms/step - loss: 0.1030 - val_loss: 0.1009\n",
            "Epoch 11/150\n",
            "235/235 [==============================] - 1s 4ms/step - loss: 0.1012 - val_loss: 0.0996\n",
            "Epoch 12/150\n",
            "235/235 [==============================] - 1s 4ms/step - loss: 0.0998 - val_loss: 0.0979\n",
            "Epoch 13/150\n",
            "235/235 [==============================] - 1s 4ms/step - loss: 0.0987 - val_loss: 0.0974\n",
            "Epoch 14/150\n",
            "235/235 [==============================] - 1s 4ms/step - loss: 0.0976 - val_loss: 0.0959\n",
            "Epoch 15/150\n",
            "235/235 [==============================] - 1s 4ms/step - loss: 0.0967 - val_loss: 0.0959\n",
            "Epoch 16/150\n",
            "235/235 [==============================] - 1s 4ms/step - loss: 0.0958 - val_loss: 0.0948\n",
            "Epoch 17/150\n",
            "235/235 [==============================] - 1s 4ms/step - loss: 0.0950 - val_loss: 0.0935\n",
            "Epoch 18/150\n",
            "235/235 [==============================] - 1s 4ms/step - loss: 0.0942 - val_loss: 0.0930\n",
            "Epoch 19/150\n",
            "235/235 [==============================] - 1s 4ms/step - loss: 0.0934 - val_loss: 0.0919\n",
            "Epoch 20/150\n",
            "235/235 [==============================] - 1s 5ms/step - loss: 0.0927 - val_loss: 0.0914\n",
            "Epoch 21/150\n",
            "235/235 [==============================] - 1s 4ms/step - loss: 0.0920 - val_loss: 0.0907\n",
            "Epoch 22/150\n",
            "235/235 [==============================] - 1s 4ms/step - loss: 0.0913 - val_loss: 0.0904\n",
            "Epoch 23/150\n",
            "235/235 [==============================] - 1s 4ms/step - loss: 0.0907 - val_loss: 0.0898\n",
            "Epoch 24/150\n",
            "235/235 [==============================] - 1s 4ms/step - loss: 0.0902 - val_loss: 0.0898\n",
            "Epoch 25/150\n",
            "235/235 [==============================] - 1s 4ms/step - loss: 0.0897 - val_loss: 0.0887\n",
            "Epoch 26/150\n",
            "235/235 [==============================] - 1s 4ms/step - loss: 0.0892 - val_loss: 0.0883\n",
            "Epoch 27/150\n",
            "235/235 [==============================] - 1s 4ms/step - loss: 0.0889 - val_loss: 0.0882\n",
            "Epoch 28/150\n",
            "235/235 [==============================] - 1s 4ms/step - loss: 0.0885 - val_loss: 0.0882\n",
            "Epoch 29/150\n",
            "235/235 [==============================] - 1s 4ms/step - loss: 0.0882 - val_loss: 0.0876\n",
            "Epoch 30/150\n",
            "235/235 [==============================] - 1s 4ms/step - loss: 0.0879 - val_loss: 0.0871\n",
            "Epoch 31/150\n",
            "235/235 [==============================] - 1s 4ms/step - loss: 0.0876 - val_loss: 0.0870\n",
            "Epoch 32/150\n",
            "235/235 [==============================] - 1s 4ms/step - loss: 0.0873 - val_loss: 0.0867\n",
            "Epoch 33/150\n",
            "235/235 [==============================] - 1s 4ms/step - loss: 0.0870 - val_loss: 0.0862\n",
            "Epoch 34/150\n",
            "235/235 [==============================] - 1s 4ms/step - loss: 0.0868 - val_loss: 0.0861\n",
            "Epoch 35/150\n",
            "235/235 [==============================] - 1s 4ms/step - loss: 0.0866 - val_loss: 0.0865\n",
            "Epoch 36/150\n",
            "235/235 [==============================] - 1s 4ms/step - loss: 0.0863 - val_loss: 0.0856\n",
            "Epoch 37/150\n",
            "235/235 [==============================] - 1s 4ms/step - loss: 0.0861 - val_loss: 0.0856\n",
            "Epoch 38/150\n",
            "235/235 [==============================] - 1s 4ms/step - loss: 0.0859 - val_loss: 0.0851\n",
            "Epoch 39/150\n",
            "235/235 [==============================] - 1s 4ms/step - loss: 0.0857 - val_loss: 0.0850\n",
            "Epoch 40/150\n",
            "235/235 [==============================] - 1s 4ms/step - loss: 0.0855 - val_loss: 0.0851\n",
            "Epoch 41/150\n",
            "235/235 [==============================] - 1s 4ms/step - loss: 0.0853 - val_loss: 0.0847\n",
            "Epoch 42/150\n",
            "235/235 [==============================] - 1s 4ms/step - loss: 0.0851 - val_loss: 0.0843\n",
            "Epoch 43/150\n",
            "235/235 [==============================] - 1s 4ms/step - loss: 0.0849 - val_loss: 0.0843\n",
            "Epoch 44/150\n",
            "235/235 [==============================] - 1s 4ms/step - loss: 0.0847 - val_loss: 0.0845\n",
            "Epoch 45/150\n",
            "235/235 [==============================] - 1s 4ms/step - loss: 0.0846 - val_loss: 0.0843\n",
            "Epoch 46/150\n",
            "235/235 [==============================] - 1s 4ms/step - loss: 0.0844 - val_loss: 0.0839\n",
            "Epoch 47/150\n",
            "235/235 [==============================] - 1s 4ms/step - loss: 0.0843 - val_loss: 0.0838\n",
            "Epoch 48/150\n",
            "235/235 [==============================] - 1s 4ms/step - loss: 0.0842 - val_loss: 0.0838\n",
            "Epoch 49/150\n",
            "235/235 [==============================] - 1s 4ms/step - loss: 0.0840 - val_loss: 0.0836\n",
            "Epoch 50/150\n",
            "235/235 [==============================] - 1s 4ms/step - loss: 0.0840 - val_loss: 0.0838\n",
            "Epoch 51/150\n",
            "235/235 [==============================] - 1s 5ms/step - loss: 0.0838 - val_loss: 0.0833\n",
            "Epoch 52/150\n",
            "235/235 [==============================] - 1s 4ms/step - loss: 0.0837 - val_loss: 0.0831\n",
            "Epoch 53/150\n",
            "235/235 [==============================] - 1s 4ms/step - loss: 0.0836 - val_loss: 0.0832\n",
            "Epoch 54/150\n",
            "235/235 [==============================] - 1s 4ms/step - loss: 0.0836 - val_loss: 0.0831\n",
            "Epoch 55/150\n",
            "235/235 [==============================] - 1s 6ms/step - loss: 0.0834 - val_loss: 0.0834\n",
            "Epoch 56/150\n",
            "235/235 [==============================] - 1s 6ms/step - loss: 0.0834 - val_loss: 0.0831\n",
            "Epoch 57/150\n",
            "235/235 [==============================] - 1s 6ms/step - loss: 0.0833 - val_loss: 0.0830\n",
            "Epoch 58/150\n",
            "235/235 [==============================] - 1s 4ms/step - loss: 0.0832 - val_loss: 0.0827\n",
            "Epoch 59/150\n",
            "235/235 [==============================] - 1s 4ms/step - loss: 0.0832 - val_loss: 0.0827\n",
            "Epoch 60/150\n",
            "235/235 [==============================] - 1s 4ms/step - loss: 0.0830 - val_loss: 0.0826\n",
            "Epoch 61/150\n",
            "235/235 [==============================] - 1s 4ms/step - loss: 0.0830 - val_loss: 0.0826\n",
            "Epoch 62/150\n",
            "235/235 [==============================] - 1s 4ms/step - loss: 0.0830 - val_loss: 0.0825\n",
            "Epoch 63/150\n",
            "235/235 [==============================] - 1s 4ms/step - loss: 0.0829 - val_loss: 0.0826\n",
            "Epoch 64/150\n",
            "235/235 [==============================] - 1s 4ms/step - loss: 0.0828 - val_loss: 0.0824\n",
            "Epoch 65/150\n",
            "235/235 [==============================] - 1s 4ms/step - loss: 0.0828 - val_loss: 0.0824\n",
            "Epoch 66/150\n",
            "235/235 [==============================] - 1s 4ms/step - loss: 0.0827 - val_loss: 0.0825\n",
            "Epoch 67/150\n",
            "235/235 [==============================] - 1s 4ms/step - loss: 0.0826 - val_loss: 0.0824\n",
            "Epoch 68/150\n",
            "235/235 [==============================] - 1s 4ms/step - loss: 0.0826 - val_loss: 0.0821\n",
            "Epoch 69/150\n",
            "235/235 [==============================] - 1s 4ms/step - loss: 0.0825 - val_loss: 0.0822\n",
            "Epoch 70/150\n",
            "235/235 [==============================] - 1s 4ms/step - loss: 0.0825 - val_loss: 0.0819\n",
            "Epoch 71/150\n",
            "235/235 [==============================] - 1s 4ms/step - loss: 0.0824 - val_loss: 0.0820\n",
            "Epoch 72/150\n",
            "235/235 [==============================] - 1s 4ms/step - loss: 0.0824 - val_loss: 0.0823\n",
            "Epoch 73/150\n",
            "235/235 [==============================] - 1s 4ms/step - loss: 0.0824 - val_loss: 0.0822\n",
            "Epoch 74/150\n",
            "235/235 [==============================] - 1s 4ms/step - loss: 0.0823 - val_loss: 0.0820\n",
            "Epoch 75/150\n",
            "235/235 [==============================] - 1s 4ms/step - loss: 0.0822 - val_loss: 0.0819\n",
            "Epoch 76/150\n",
            "235/235 [==============================] - 1s 4ms/step - loss: 0.0822 - val_loss: 0.0819\n",
            "Epoch 77/150\n",
            "235/235 [==============================] - 1s 4ms/step - loss: 0.0821 - val_loss: 0.0818\n",
            "Epoch 78/150\n",
            "235/235 [==============================] - 1s 4ms/step - loss: 0.0821 - val_loss: 0.0817\n",
            "Epoch 79/150\n",
            "235/235 [==============================] - 1s 4ms/step - loss: 0.0821 - val_loss: 0.0817\n",
            "Epoch 80/150\n",
            "235/235 [==============================] - 1s 4ms/step - loss: 0.0821 - val_loss: 0.0817\n",
            "Epoch 81/150\n",
            "235/235 [==============================] - 1s 4ms/step - loss: 0.0820 - val_loss: 0.0818\n",
            "Epoch 82/150\n",
            "235/235 [==============================] - 1s 4ms/step - loss: 0.0819 - val_loss: 0.0818\n",
            "Epoch 83/150\n",
            "235/235 [==============================] - 1s 4ms/step - loss: 0.0819 - val_loss: 0.0817\n",
            "Epoch 84/150\n",
            "235/235 [==============================] - 1s 5ms/step - loss: 0.0819 - val_loss: 0.0814\n",
            "Epoch 85/150\n",
            "235/235 [==============================] - 1s 4ms/step - loss: 0.0818 - val_loss: 0.0815\n",
            "Epoch 86/150\n",
            "235/235 [==============================] - 1s 4ms/step - loss: 0.0818 - val_loss: 0.0815\n",
            "Epoch 87/150\n",
            "235/235 [==============================] - 1s 4ms/step - loss: 0.0818 - val_loss: 0.0813\n",
            "Epoch 88/150\n",
            "235/235 [==============================] - 1s 4ms/step - loss: 0.0818 - val_loss: 0.0815\n",
            "Epoch 89/150\n",
            "235/235 [==============================] - 1s 4ms/step - loss: 0.0817 - val_loss: 0.0814\n",
            "Epoch 90/150\n",
            "235/235 [==============================] - 1s 4ms/step - loss: 0.0817 - val_loss: 0.0814\n",
            "Epoch 91/150\n",
            "235/235 [==============================] - 1s 4ms/step - loss: 0.0817 - val_loss: 0.0817\n",
            "Epoch 92/150\n",
            "235/235 [==============================] - 1s 4ms/step - loss: 0.0816 - val_loss: 0.0813\n",
            "Epoch 93/150\n",
            "235/235 [==============================] - 1s 4ms/step - loss: 0.0816 - val_loss: 0.0814\n",
            "Epoch 94/150\n",
            "235/235 [==============================] - 1s 4ms/step - loss: 0.0815 - val_loss: 0.0814\n",
            "Epoch 95/150\n",
            "235/235 [==============================] - 1s 4ms/step - loss: 0.0815 - val_loss: 0.0814\n",
            "Epoch 96/150\n",
            "235/235 [==============================] - 1s 4ms/step - loss: 0.0815 - val_loss: 0.0816\n",
            "Epoch 97/150\n",
            "235/235 [==============================] - 1s 4ms/step - loss: 0.0815 - val_loss: 0.0813\n",
            "Epoch 98/150\n",
            "235/235 [==============================] - 1s 4ms/step - loss: 0.0815 - val_loss: 0.0813\n",
            "Epoch 99/150\n",
            "235/235 [==============================] - 1s 4ms/step - loss: 0.0814 - val_loss: 0.0813\n",
            "Epoch 100/150\n",
            "235/235 [==============================] - 1s 4ms/step - loss: 0.0814 - val_loss: 0.0812\n",
            "Epoch 101/150\n",
            "235/235 [==============================] - 1s 4ms/step - loss: 0.0814 - val_loss: 0.0811\n",
            "Epoch 102/150\n",
            "235/235 [==============================] - 1s 4ms/step - loss: 0.0814 - val_loss: 0.0812\n",
            "Epoch 103/150\n",
            "235/235 [==============================] - 1s 4ms/step - loss: 0.0813 - val_loss: 0.0812\n",
            "Epoch 104/150\n",
            "235/235 [==============================] - 1s 4ms/step - loss: 0.0813 - val_loss: 0.0810\n",
            "Epoch 105/150\n",
            "235/235 [==============================] - 1s 4ms/step - loss: 0.0813 - val_loss: 0.0813\n",
            "Epoch 106/150\n",
            "235/235 [==============================] - 1s 4ms/step - loss: 0.0812 - val_loss: 0.0811\n",
            "Epoch 107/150\n",
            "235/235 [==============================] - 1s 4ms/step - loss: 0.0812 - val_loss: 0.0813\n",
            "Epoch 108/150\n",
            "235/235 [==============================] - 1s 4ms/step - loss: 0.0812 - val_loss: 0.0810\n",
            "Epoch 109/150\n",
            "235/235 [==============================] - 1s 4ms/step - loss: 0.0812 - val_loss: 0.0814\n",
            "Epoch 110/150\n",
            "235/235 [==============================] - 1s 4ms/step - loss: 0.0812 - val_loss: 0.0809\n",
            "Epoch 111/150\n",
            "235/235 [==============================] - 1s 4ms/step - loss: 0.0811 - val_loss: 0.0809\n",
            "Epoch 112/150\n",
            "235/235 [==============================] - 1s 4ms/step - loss: 0.0812 - val_loss: 0.0810\n",
            "Epoch 113/150\n",
            "235/235 [==============================] - 1s 4ms/step - loss: 0.0811 - val_loss: 0.0811\n",
            "Epoch 114/150\n",
            "235/235 [==============================] - 1s 4ms/step - loss: 0.0811 - val_loss: 0.0810\n",
            "Epoch 115/150\n",
            "235/235 [==============================] - 1s 4ms/step - loss: 0.0811 - val_loss: 0.0809\n",
            "Epoch 116/150\n",
            "235/235 [==============================] - 1s 4ms/step - loss: 0.0811 - val_loss: 0.0812\n",
            "Epoch 117/150\n",
            "235/235 [==============================] - 1s 4ms/step - loss: 0.0810 - val_loss: 0.0809\n",
            "Epoch 118/150\n",
            "235/235 [==============================] - 1s 4ms/step - loss: 0.0810 - val_loss: 0.0810\n",
            "Epoch 119/150\n",
            "235/235 [==============================] - 1s 4ms/step - loss: 0.0810 - val_loss: 0.0807\n",
            "Epoch 120/150\n",
            "235/235 [==============================] - 1s 4ms/step - loss: 0.0810 - val_loss: 0.0808\n",
            "Epoch 121/150\n",
            "235/235 [==============================] - 1s 4ms/step - loss: 0.0810 - val_loss: 0.0809\n",
            "Epoch 122/150\n",
            "235/235 [==============================] - 1s 4ms/step - loss: 0.0810 - val_loss: 0.0809\n",
            "Epoch 123/150\n",
            "235/235 [==============================] - 1s 4ms/step - loss: 0.0809 - val_loss: 0.0810\n",
            "Epoch 124/150\n",
            "235/235 [==============================] - 1s 4ms/step - loss: 0.0809 - val_loss: 0.0810\n",
            "Epoch 125/150\n",
            "235/235 [==============================] - 1s 4ms/step - loss: 0.0809 - val_loss: 0.0807\n",
            "Epoch 126/150\n",
            "235/235 [==============================] - 1s 4ms/step - loss: 0.0809 - val_loss: 0.0809\n",
            "Epoch 127/150\n",
            "235/235 [==============================] - 1s 4ms/step - loss: 0.0809 - val_loss: 0.0807\n",
            "Epoch 128/150\n",
            "235/235 [==============================] - 1s 4ms/step - loss: 0.0809 - val_loss: 0.0808\n",
            "Epoch 129/150\n",
            "235/235 [==============================] - 1s 4ms/step - loss: 0.0808 - val_loss: 0.0808\n",
            "Epoch 130/150\n",
            "235/235 [==============================] - 1s 4ms/step - loss: 0.0809 - val_loss: 0.0806\n",
            "Epoch 131/150\n",
            "235/235 [==============================] - 1s 4ms/step - loss: 0.0809 - val_loss: 0.0807\n",
            "Epoch 132/150\n",
            "235/235 [==============================] - 1s 4ms/step - loss: 0.0808 - val_loss: 0.0807\n",
            "Epoch 133/150\n",
            "235/235 [==============================] - 1s 4ms/step - loss: 0.0808 - val_loss: 0.0810\n",
            "Epoch 134/150\n",
            "235/235 [==============================] - 1s 4ms/step - loss: 0.0808 - val_loss: 0.0807\n",
            "Epoch 135/150\n",
            "235/235 [==============================] - 1s 4ms/step - loss: 0.0808 - val_loss: 0.0807\n",
            "Epoch 136/150\n",
            "235/235 [==============================] - 1s 4ms/step - loss: 0.0808 - val_loss: 0.0808\n",
            "Epoch 137/150\n",
            "235/235 [==============================] - 1s 4ms/step - loss: 0.0807 - val_loss: 0.0806\n",
            "Epoch 138/150\n",
            "235/235 [==============================] - 1s 4ms/step - loss: 0.0807 - val_loss: 0.0806\n",
            "Epoch 139/150\n",
            "235/235 [==============================] - 1s 4ms/step - loss: 0.0808 - val_loss: 0.0805\n",
            "Epoch 140/150\n",
            "235/235 [==============================] - 1s 4ms/step - loss: 0.0807 - val_loss: 0.0807\n",
            "Epoch 141/150\n",
            "235/235 [==============================] - 1s 4ms/step - loss: 0.0807 - val_loss: 0.0805\n",
            "Epoch 142/150\n",
            "235/235 [==============================] - 1s 4ms/step - loss: 0.0807 - val_loss: 0.0808\n",
            "Epoch 143/150\n",
            "235/235 [==============================] - 1s 4ms/step - loss: 0.0807 - val_loss: 0.0805\n",
            "Epoch 144/150\n",
            "235/235 [==============================] - 1s 5ms/step - loss: 0.0807 - val_loss: 0.0806\n",
            "Epoch 145/150\n",
            "235/235 [==============================] - 1s 4ms/step - loss: 0.0806 - val_loss: 0.0806\n",
            "Epoch 146/150\n",
            "235/235 [==============================] - 1s 4ms/step - loss: 0.0806 - val_loss: 0.0805\n",
            "Epoch 147/150\n",
            "235/235 [==============================] - 1s 4ms/step - loss: 0.0806 - val_loss: 0.0804\n",
            "Epoch 148/150\n",
            "235/235 [==============================] - 1s 4ms/step - loss: 0.0806 - val_loss: 0.0808\n",
            "Epoch 149/150\n",
            "235/235 [==============================] - 1s 4ms/step - loss: 0.0806 - val_loss: 0.0805\n",
            "Epoch 150/150\n",
            "235/235 [==============================] - 1s 4ms/step - loss: 0.0805 - val_loss: 0.0807\n"
          ]
        }
      ]
    },
    {
      "cell_type": "markdown",
      "source": [
        "###Guardamos el modelo"
      ],
      "metadata": {
        "id": "tRxqvHCyPo-b"
      }
    },
    {
      "cell_type": "code",
      "source": [
        "autoencoder2.save_weights('autoencoder2.h5')"
      ],
      "metadata": {
        "id": "W3Z-V4HfPqFu"
      },
      "execution_count": 26,
      "outputs": []
    },
    {
      "cell_type": "markdown",
      "source": [
        "##Autoencoder #3"
      ],
      "metadata": {
        "id": "xoMic8hdQjI0"
      }
    },
    {
      "cell_type": "code",
      "source": [
        " #Haremos ahora un autoencoder de 3 capas de encoder y 3 de decoder\n",
        "input_img = Input(shape=(784)) #Encoded1\n",
        "encoded3 = Dense(64, activation= 'relu')(input_img) #Encoded2\n",
        "encoded3 = Dense(32, activation= 'relu')(encoded3) #Encoded3\n",
        "\n",
        "encoded3 = Dense(16, activation= 'relu')(encoded3)#Latent layer\n",
        "\n",
        "decoded3 = Dense(32, activation= 'relu')(encoded3) #Decoded1\n",
        "decoded3 = Dense(64, activation= 'relu')(decoded3) #Decoded2\n",
        "decoded3 = Dense(784, activation= 'sigmoid')(decoded3) #Decoded3"
      ],
      "metadata": {
        "id": "nVbeMcckQi3H"
      },
      "execution_count": 27,
      "outputs": []
    },
    {
      "cell_type": "markdown",
      "source": [
        "###Guardamos la capa latente, para luego usarla en la clasificación"
      ],
      "metadata": {
        "id": "taxeUxnRQ1G5"
      }
    },
    {
      "cell_type": "code",
      "source": [
        "encoder3 = Model(input_img,encoded3) #Modelo que va desde el encoder, a la data latente. Es el que comprime la data"
      ],
      "metadata": {
        "id": "R8FERG_EQ1uv"
      },
      "execution_count": 28,
      "outputs": []
    },
    {
      "cell_type": "markdown",
      "source": [
        "###Configuraciones finales"
      ],
      "metadata": {
        "id": "j0jl-X1sQ9Ck"
      }
    },
    {
      "cell_type": "code",
      "source": [
        "autoencoder3 = Model(input_img,decoded3) #Modelo completo del autoencoder, con su (entrada, salida)\n",
        "autoencoder3.compile(optimizer = 'adam', loss='binary_crossentropy') #Compilamos el modelo con su optimizador y su pérdida. La función de pérdida será la entropía binaria de ese modelo.\n",
        "\n",
        "autoencoder3.summary() #Resumen del modelo tipo tabla\n",
        "plot_model(autoencoder3, to_file='autoencoder.jpg', show_shapes=True) #Resumen del modelo tipo plot en imágen"
      ],
      "metadata": {
        "colab": {
          "base_uri": "https://localhost:8080/",
          "height": 0
        },
        "id": "i-3ehfOLRB0H",
        "outputId": "9de16345-4e59-4535-ec1b-ee9a165e4549"
      },
      "execution_count": 29,
      "outputs": [
        {
          "output_type": "stream",
          "name": "stdout",
          "text": [
            "Model: \"model_5\"\n",
            "_________________________________________________________________\n",
            " Layer (type)                Output Shape              Param #   \n",
            "=================================================================\n",
            " input_3 (InputLayer)        [(None, 784)]             0         \n",
            "                                                                 \n",
            " dense_12 (Dense)            (None, 64)                50240     \n",
            "                                                                 \n",
            " dense_13 (Dense)            (None, 32)                2080      \n",
            "                                                                 \n",
            " dense_14 (Dense)            (None, 16)                528       \n",
            "                                                                 \n",
            " dense_15 (Dense)            (None, 32)                544       \n",
            "                                                                 \n",
            " dense_16 (Dense)            (None, 64)                2112      \n",
            "                                                                 \n",
            " dense_17 (Dense)            (None, 784)               50960     \n",
            "                                                                 \n",
            "=================================================================\n",
            "Total params: 106,464\n",
            "Trainable params: 106,464\n",
            "Non-trainable params: 0\n",
            "_________________________________________________________________\n"
          ]
        },
        {
          "output_type": "execute_result",
          "data": {
            "text/plain": [
              "<IPython.core.display.Image object>"
            ],
            "image/jpeg": "[encoded data removed]"
          },
          "metadata": {},
          "execution_count": 29
        }
      ]
    },
    {
      "cell_type": "markdown",
      "source": [
        "###Resumen del encoder, cuya última capa es la latente que necesitamos"
      ],
      "metadata": {
        "id": "2Z2fJiD7RJO1"
      }
    },
    {
      "cell_type": "code",
      "source": [
        "encoder3.summary()"
      ],
      "metadata": {
        "colab": {
          "base_uri": "https://localhost:8080/"
        },
        "id": "HS2Y0BvVRJ31",
        "outputId": "e840c726-d70f-4104-f46c-6620a52c6848"
      },
      "execution_count": 30,
      "outputs": [
        {
          "output_type": "stream",
          "name": "stdout",
          "text": [
            "Model: \"model_4\"\n",
            "_________________________________________________________________\n",
            " Layer (type)                Output Shape              Param #   \n",
            "=================================================================\n",
            " input_3 (InputLayer)        [(None, 784)]             0         \n",
            "                                                                 \n",
            " dense_12 (Dense)            (None, 64)                50240     \n",
            "                                                                 \n",
            " dense_13 (Dense)            (None, 32)                2080      \n",
            "                                                                 \n",
            " dense_14 (Dense)            (None, 16)                528       \n",
            "                                                                 \n",
            "=================================================================\n",
            "Total params: 52,848\n",
            "Trainable params: 52,848\n",
            "Non-trainable params: 0\n",
            "_________________________________________________________________\n"
          ]
        }
      ]
    },
    {
      "cell_type": "markdown",
      "source": [
        "###Obtenemos la capa latente del modelo"
      ],
      "metadata": {
        "id": "C_Fwu_jVRMez"
      }
    },
    {
      "cell_type": "code",
      "source": [
        "latent_layer3 = encoder3.layers[-1]"
      ],
      "metadata": {
        "id": "PTJsD-SORMM3"
      },
      "execution_count": 31,
      "outputs": []
    },
    {
      "cell_type": "markdown",
      "source": [
        "###Entrenando el tercer modelo y sus neuronas"
      ],
      "metadata": {
        "id": "O6D0mlngRXJ6"
      }
    },
    {
      "cell_type": "code",
      "source": [
        "history3 = autoencoder3.fit(x_train,x_train, validation_data=(x_test,x_test), epochs=150, batch_size=256, shuffle=True) #Entrenando la red.\n",
        "#Recordemos que la data de entrada y el target es el mismo"
      ],
      "metadata": {
        "colab": {
          "base_uri": "https://localhost:8080/"
        },
        "id": "LG0UvlicRZ2C",
        "outputId": "4eb5697a-d6d8-43b4-d4bd-88db8e27a352"
      },
      "execution_count": 32,
      "outputs": [
        {
          "output_type": "stream",
          "name": "stdout",
          "text": [
            "Epoch 1/150\n",
            "235/235 [==============================] - 2s 5ms/step - loss: 0.2805 - val_loss: 0.2088\n",
            "Epoch 2/150\n",
            "235/235 [==============================] - 1s 5ms/step - loss: 0.1885 - val_loss: 0.1729\n",
            "Epoch 3/150\n",
            "235/235 [==============================] - 1s 4ms/step - loss: 0.1655 - val_loss: 0.1561\n",
            "Epoch 4/150\n",
            "235/235 [==============================] - 1s 4ms/step - loss: 0.1538 - val_loss: 0.1493\n",
            "Epoch 5/150\n",
            "235/235 [==============================] - 1s 4ms/step - loss: 0.1483 - val_loss: 0.1447\n",
            "Epoch 6/150\n",
            "235/235 [==============================] - 1s 4ms/step - loss: 0.1443 - val_loss: 0.1406\n",
            "Epoch 7/150\n",
            "235/235 [==============================] - 1s 4ms/step - loss: 0.1402 - val_loss: 0.1370\n",
            "Epoch 8/150\n",
            "235/235 [==============================] - 1s 4ms/step - loss: 0.1361 - val_loss: 0.1330\n",
            "Epoch 9/150\n",
            "235/235 [==============================] - 1s 4ms/step - loss: 0.1334 - val_loss: 0.1310\n",
            "Epoch 10/150\n",
            "235/235 [==============================] - 1s 4ms/step - loss: 0.1315 - val_loss: 0.1295\n",
            "Epoch 11/150\n",
            "235/235 [==============================] - 1s 4ms/step - loss: 0.1298 - val_loss: 0.1275\n",
            "Epoch 12/150\n",
            "235/235 [==============================] - 1s 4ms/step - loss: 0.1280 - val_loss: 0.1258\n",
            "Epoch 13/150\n",
            "235/235 [==============================] - 1s 4ms/step - loss: 0.1264 - val_loss: 0.1247\n",
            "Epoch 14/150\n",
            "235/235 [==============================] - 1s 4ms/step - loss: 0.1253 - val_loss: 0.1235\n",
            "Epoch 15/150\n",
            "235/235 [==============================] - 1s 4ms/step - loss: 0.1243 - val_loss: 0.1228\n",
            "Epoch 16/150\n",
            "235/235 [==============================] - 1s 4ms/step - loss: 0.1235 - val_loss: 0.1219\n",
            "Epoch 17/150\n",
            "235/235 [==============================] - 1s 4ms/step - loss: 0.1227 - val_loss: 0.1212\n",
            "Epoch 18/150\n",
            "235/235 [==============================] - 1s 4ms/step - loss: 0.1220 - val_loss: 0.1205\n",
            "Epoch 19/150\n",
            "235/235 [==============================] - 1s 4ms/step - loss: 0.1214 - val_loss: 0.1198\n",
            "Epoch 20/150\n",
            "235/235 [==============================] - 1s 4ms/step - loss: 0.1208 - val_loss: 0.1192\n",
            "Epoch 21/150\n",
            "235/235 [==============================] - 1s 4ms/step - loss: 0.1202 - val_loss: 0.1189\n",
            "Epoch 22/150\n",
            "235/235 [==============================] - 1s 4ms/step - loss: 0.1197 - val_loss: 0.1185\n",
            "Epoch 23/150\n",
            "235/235 [==============================] - 1s 4ms/step - loss: 0.1193 - val_loss: 0.1178\n",
            "Epoch 24/150\n",
            "235/235 [==============================] - 1s 4ms/step - loss: 0.1187 - val_loss: 0.1177\n",
            "Epoch 25/150\n",
            "235/235 [==============================] - 1s 4ms/step - loss: 0.1184 - val_loss: 0.1170\n",
            "Epoch 26/150\n",
            "235/235 [==============================] - 1s 4ms/step - loss: 0.1180 - val_loss: 0.1168\n",
            "Epoch 27/150\n",
            "235/235 [==============================] - 1s 4ms/step - loss: 0.1176 - val_loss: 0.1165\n",
            "Epoch 28/150\n",
            "235/235 [==============================] - 1s 4ms/step - loss: 0.1173 - val_loss: 0.1163\n",
            "Epoch 29/150\n",
            "235/235 [==============================] - 1s 4ms/step - loss: 0.1170 - val_loss: 0.1156\n",
            "Epoch 30/150\n",
            "235/235 [==============================] - 1s 4ms/step - loss: 0.1166 - val_loss: 0.1154\n",
            "Epoch 31/150\n",
            "235/235 [==============================] - 1s 4ms/step - loss: 0.1163 - val_loss: 0.1157\n",
            "Epoch 32/150\n",
            "235/235 [==============================] - 1s 4ms/step - loss: 0.1161 - val_loss: 0.1147\n",
            "Epoch 33/150\n",
            "235/235 [==============================] - 1s 5ms/step - loss: 0.1158 - val_loss: 0.1147\n",
            "Epoch 34/150\n",
            "235/235 [==============================] - 1s 4ms/step - loss: 0.1156 - val_loss: 0.1148\n",
            "Epoch 35/150\n",
            "235/235 [==============================] - 1s 4ms/step - loss: 0.1154 - val_loss: 0.1141\n",
            "Epoch 36/150\n",
            "235/235 [==============================] - 1s 4ms/step - loss: 0.1151 - val_loss: 0.1141\n",
            "Epoch 37/150\n",
            "235/235 [==============================] - 1s 4ms/step - loss: 0.1149 - val_loss: 0.1136\n",
            "Epoch 38/150\n",
            "235/235 [==============================] - 1s 4ms/step - loss: 0.1147 - val_loss: 0.1137\n",
            "Epoch 39/150\n",
            "235/235 [==============================] - 1s 4ms/step - loss: 0.1146 - val_loss: 0.1137\n",
            "Epoch 40/150\n",
            "235/235 [==============================] - 1s 4ms/step - loss: 0.1143 - val_loss: 0.1134\n",
            "Epoch 41/150\n",
            "235/235 [==============================] - 1s 4ms/step - loss: 0.1142 - val_loss: 0.1131\n",
            "Epoch 42/150\n",
            "235/235 [==============================] - 1s 4ms/step - loss: 0.1140 - val_loss: 0.1129\n",
            "Epoch 43/150\n",
            "235/235 [==============================] - 1s 4ms/step - loss: 0.1138 - val_loss: 0.1128\n",
            "Epoch 44/150\n",
            "235/235 [==============================] - 1s 4ms/step - loss: 0.1136 - val_loss: 0.1127\n",
            "Epoch 45/150\n",
            "235/235 [==============================] - 1s 4ms/step - loss: 0.1135 - val_loss: 0.1127\n",
            "Epoch 46/150\n",
            "235/235 [==============================] - 1s 4ms/step - loss: 0.1134 - val_loss: 0.1122\n",
            "Epoch 47/150\n",
            "235/235 [==============================] - 1s 4ms/step - loss: 0.1132 - val_loss: 0.1122\n",
            "Epoch 48/150\n",
            "235/235 [==============================] - 1s 4ms/step - loss: 0.1131 - val_loss: 0.1122\n",
            "Epoch 49/150\n",
            "235/235 [==============================] - 1s 4ms/step - loss: 0.1129 - val_loss: 0.1119\n",
            "Epoch 50/150\n",
            "235/235 [==============================] - 1s 4ms/step - loss: 0.1128 - val_loss: 0.1120\n",
            "Epoch 51/150\n",
            "235/235 [==============================] - 1s 4ms/step - loss: 0.1127 - val_loss: 0.1117\n",
            "Epoch 52/150\n",
            "235/235 [==============================] - 1s 4ms/step - loss: 0.1126 - val_loss: 0.1117\n",
            "Epoch 53/150\n",
            "235/235 [==============================] - 1s 4ms/step - loss: 0.1126 - val_loss: 0.1116\n",
            "Epoch 54/150\n",
            "235/235 [==============================] - 1s 4ms/step - loss: 0.1123 - val_loss: 0.1116\n",
            "Epoch 55/150\n",
            "235/235 [==============================] - 1s 4ms/step - loss: 0.1123 - val_loss: 0.1112\n",
            "Epoch 56/150\n",
            "235/235 [==============================] - 1s 4ms/step - loss: 0.1122 - val_loss: 0.1113\n",
            "Epoch 57/150\n",
            "235/235 [==============================] - 1s 4ms/step - loss: 0.1121 - val_loss: 0.1112\n",
            "Epoch 58/150\n",
            "235/235 [==============================] - 1s 4ms/step - loss: 0.1119 - val_loss: 0.1111\n",
            "Epoch 59/150\n",
            "235/235 [==============================] - 1s 4ms/step - loss: 0.1118 - val_loss: 0.1108\n",
            "Epoch 60/150\n",
            "235/235 [==============================] - 1s 4ms/step - loss: 0.1118 - val_loss: 0.1108\n",
            "Epoch 61/150\n",
            "235/235 [==============================] - 1s 4ms/step - loss: 0.1117 - val_loss: 0.1110\n",
            "Epoch 62/150\n",
            "235/235 [==============================] - 1s 4ms/step - loss: 0.1116 - val_loss: 0.1107\n",
            "Epoch 63/150\n",
            "235/235 [==============================] - 1s 4ms/step - loss: 0.1116 - val_loss: 0.1110\n",
            "Epoch 64/150\n",
            "235/235 [==============================] - 1s 4ms/step - loss: 0.1115 - val_loss: 0.1106\n",
            "Epoch 65/150\n",
            "235/235 [==============================] - 1s 4ms/step - loss: 0.1114 - val_loss: 0.1107\n",
            "Epoch 66/150\n",
            "235/235 [==============================] - 1s 4ms/step - loss: 0.1113 - val_loss: 0.1105\n",
            "Epoch 67/150\n",
            "235/235 [==============================] - 1s 4ms/step - loss: 0.1113 - val_loss: 0.1106\n",
            "Epoch 68/150\n",
            "235/235 [==============================] - 1s 4ms/step - loss: 0.1112 - val_loss: 0.1104\n",
            "Epoch 69/150\n",
            "235/235 [==============================] - 1s 4ms/step - loss: 0.1111 - val_loss: 0.1104\n",
            "Epoch 70/150\n",
            "235/235 [==============================] - 1s 4ms/step - loss: 0.1111 - val_loss: 0.1105\n",
            "Epoch 71/150\n",
            "235/235 [==============================] - 1s 4ms/step - loss: 0.1110 - val_loss: 0.1101\n",
            "Epoch 72/150\n",
            "235/235 [==============================] - 1s 4ms/step - loss: 0.1110 - val_loss: 0.1103\n",
            "Epoch 73/150\n",
            "235/235 [==============================] - 1s 4ms/step - loss: 0.1109 - val_loss: 0.1103\n",
            "Epoch 74/150\n",
            "235/235 [==============================] - 1s 4ms/step - loss: 0.1108 - val_loss: 0.1101\n",
            "Epoch 75/150\n",
            "235/235 [==============================] - 1s 4ms/step - loss: 0.1108 - val_loss: 0.1101\n",
            "Epoch 76/150\n",
            "235/235 [==============================] - 1s 4ms/step - loss: 0.1107 - val_loss: 0.1100\n",
            "Epoch 77/150\n",
            "235/235 [==============================] - 1s 4ms/step - loss: 0.1107 - val_loss: 0.1101\n",
            "Epoch 78/150\n",
            "235/235 [==============================] - 1s 4ms/step - loss: 0.1106 - val_loss: 0.1097\n",
            "Epoch 79/150\n",
            "235/235 [==============================] - 1s 4ms/step - loss: 0.1106 - val_loss: 0.1098\n",
            "Epoch 80/150\n",
            "235/235 [==============================] - 1s 5ms/step - loss: 0.1105 - val_loss: 0.1099\n",
            "Epoch 81/150\n",
            "235/235 [==============================] - 1s 4ms/step - loss: 0.1105 - val_loss: 0.1100\n",
            "Epoch 82/150\n",
            "235/235 [==============================] - 1s 4ms/step - loss: 0.1104 - val_loss: 0.1096\n",
            "Epoch 83/150\n",
            "235/235 [==============================] - 1s 4ms/step - loss: 0.1104 - val_loss: 0.1095\n",
            "Epoch 84/150\n",
            "235/235 [==============================] - 1s 4ms/step - loss: 0.1103 - val_loss: 0.1095\n",
            "Epoch 85/150\n",
            "235/235 [==============================] - 1s 4ms/step - loss: 0.1103 - val_loss: 0.1094\n",
            "Epoch 86/150\n",
            "235/235 [==============================] - 1s 4ms/step - loss: 0.1102 - val_loss: 0.1093\n",
            "Epoch 87/150\n",
            "235/235 [==============================] - 1s 4ms/step - loss: 0.1101 - val_loss: 0.1094\n",
            "Epoch 88/150\n",
            "235/235 [==============================] - 1s 4ms/step - loss: 0.1101 - val_loss: 0.1095\n",
            "Epoch 89/150\n",
            "235/235 [==============================] - 1s 4ms/step - loss: 0.1101 - val_loss: 0.1092\n",
            "Epoch 90/150\n",
            "235/235 [==============================] - 1s 4ms/step - loss: 0.1100 - val_loss: 0.1093\n",
            "Epoch 91/150\n",
            "235/235 [==============================] - 1s 4ms/step - loss: 0.1100 - val_loss: 0.1092\n",
            "Epoch 92/150\n",
            "235/235 [==============================] - 1s 4ms/step - loss: 0.1099 - val_loss: 0.1092\n",
            "Epoch 93/150\n",
            "235/235 [==============================] - 1s 4ms/step - loss: 0.1098 - val_loss: 0.1092\n",
            "Epoch 94/150\n",
            "235/235 [==============================] - 1s 4ms/step - loss: 0.1098 - val_loss: 0.1092\n",
            "Epoch 95/150\n",
            "235/235 [==============================] - 1s 4ms/step - loss: 0.1098 - val_loss: 0.1089\n",
            "Epoch 96/150\n",
            "235/235 [==============================] - 1s 4ms/step - loss: 0.1097 - val_loss: 0.1091\n",
            "Epoch 97/150\n",
            "235/235 [==============================] - 1s 4ms/step - loss: 0.1097 - val_loss: 0.1089\n",
            "Epoch 98/150\n",
            "235/235 [==============================] - 1s 4ms/step - loss: 0.1096 - val_loss: 0.1088\n",
            "Epoch 99/150\n",
            "235/235 [==============================] - 1s 4ms/step - loss: 0.1096 - val_loss: 0.1087\n",
            "Epoch 100/150\n",
            "235/235 [==============================] - 1s 4ms/step - loss: 0.1096 - val_loss: 0.1088\n",
            "Epoch 101/150\n",
            "235/235 [==============================] - 1s 4ms/step - loss: 0.1095 - val_loss: 0.1087\n",
            "Epoch 102/150\n",
            "235/235 [==============================] - 1s 4ms/step - loss: 0.1095 - val_loss: 0.1087\n",
            "Epoch 103/150\n",
            "235/235 [==============================] - 1s 4ms/step - loss: 0.1094 - val_loss: 0.1086\n",
            "Epoch 104/150\n",
            "235/235 [==============================] - 1s 4ms/step - loss: 0.1094 - val_loss: 0.1086\n",
            "Epoch 105/150\n",
            "235/235 [==============================] - 1s 4ms/step - loss: 0.1093 - val_loss: 0.1087\n",
            "Epoch 106/150\n",
            "235/235 [==============================] - 1s 4ms/step - loss: 0.1093 - val_loss: 0.1085\n",
            "Epoch 107/150\n",
            "235/235 [==============================] - 1s 4ms/step - loss: 0.1093 - val_loss: 0.1085\n",
            "Epoch 108/150\n",
            "235/235 [==============================] - 1s 4ms/step - loss: 0.1092 - val_loss: 0.1083\n",
            "Epoch 109/150\n",
            "235/235 [==============================] - 1s 4ms/step - loss: 0.1092 - val_loss: 0.1083\n",
            "Epoch 110/150\n",
            "235/235 [==============================] - 1s 4ms/step - loss: 0.1091 - val_loss: 0.1084\n",
            "Epoch 111/150\n",
            "235/235 [==============================] - 1s 4ms/step - loss: 0.1090 - val_loss: 0.1085\n",
            "Epoch 112/150\n",
            "235/235 [==============================] - 1s 4ms/step - loss: 0.1090 - val_loss: 0.1084\n",
            "Epoch 113/150\n",
            "235/235 [==============================] - 1s 4ms/step - loss: 0.1089 - val_loss: 0.1086\n",
            "Epoch 114/150\n",
            "235/235 [==============================] - 1s 4ms/step - loss: 0.1089 - val_loss: 0.1082\n",
            "Epoch 115/150\n",
            "235/235 [==============================] - 1s 4ms/step - loss: 0.1089 - val_loss: 0.1082\n",
            "Epoch 116/150\n",
            "235/235 [==============================] - 1s 4ms/step - loss: 0.1088 - val_loss: 0.1081\n",
            "Epoch 117/150\n",
            "235/235 [==============================] - 1s 4ms/step - loss: 0.1088 - val_loss: 0.1081\n",
            "Epoch 118/150\n",
            "235/235 [==============================] - 1s 4ms/step - loss: 0.1088 - val_loss: 0.1079\n",
            "Epoch 119/150\n",
            "235/235 [==============================] - 1s 4ms/step - loss: 0.1087 - val_loss: 0.1081\n",
            "Epoch 120/150\n",
            "235/235 [==============================] - 1s 4ms/step - loss: 0.1087 - val_loss: 0.1081\n",
            "Epoch 121/150\n",
            "235/235 [==============================] - 1s 4ms/step - loss: 0.1086 - val_loss: 0.1079\n",
            "Epoch 122/150\n",
            "235/235 [==============================] - 1s 4ms/step - loss: 0.1086 - val_loss: 0.1080\n",
            "Epoch 123/150\n",
            "235/235 [==============================] - 1s 5ms/step - loss: 0.1085 - val_loss: 0.1081\n",
            "Epoch 124/150\n",
            "235/235 [==============================] - 1s 4ms/step - loss: 0.1085 - val_loss: 0.1080\n",
            "Epoch 125/150\n",
            "235/235 [==============================] - 1s 4ms/step - loss: 0.1085 - val_loss: 0.1081\n",
            "Epoch 126/150\n",
            "235/235 [==============================] - 1s 4ms/step - loss: 0.1084 - val_loss: 0.1078\n",
            "Epoch 127/150\n",
            "235/235 [==============================] - 1s 4ms/step - loss: 0.1084 - val_loss: 0.1077\n",
            "Epoch 128/150\n",
            "235/235 [==============================] - 1s 4ms/step - loss: 0.1083 - val_loss: 0.1077\n",
            "Epoch 129/150\n",
            "235/235 [==============================] - 1s 4ms/step - loss: 0.1083 - val_loss: 0.1079\n",
            "Epoch 130/150\n",
            "235/235 [==============================] - 1s 4ms/step - loss: 0.1083 - val_loss: 0.1078\n",
            "Epoch 131/150\n",
            "235/235 [==============================] - 1s 4ms/step - loss: 0.1083 - val_loss: 0.1077\n",
            "Epoch 132/150\n",
            "235/235 [==============================] - 1s 4ms/step - loss: 0.1082 - val_loss: 0.1078\n",
            "Epoch 133/150\n",
            "235/235 [==============================] - 1s 4ms/step - loss: 0.1082 - val_loss: 0.1076\n",
            "Epoch 134/150\n",
            "235/235 [==============================] - 1s 4ms/step - loss: 0.1082 - val_loss: 0.1075\n",
            "Epoch 135/150\n",
            "235/235 [==============================] - 1s 4ms/step - loss: 0.1081 - val_loss: 0.1075\n",
            "Epoch 136/150\n",
            "235/235 [==============================] - 1s 4ms/step - loss: 0.1081 - val_loss: 0.1076\n",
            "Epoch 137/150\n",
            "235/235 [==============================] - 1s 4ms/step - loss: 0.1080 - val_loss: 0.1077\n",
            "Epoch 138/150\n",
            "235/235 [==============================] - 1s 4ms/step - loss: 0.1080 - val_loss: 0.1075\n",
            "Epoch 139/150\n",
            "235/235 [==============================] - 1s 4ms/step - loss: 0.1080 - val_loss: 0.1075\n",
            "Epoch 140/150\n",
            "235/235 [==============================] - 1s 4ms/step - loss: 0.1080 - val_loss: 0.1073\n",
            "Epoch 141/150\n",
            "235/235 [==============================] - 1s 4ms/step - loss: 0.1079 - val_loss: 0.1072\n",
            "Epoch 142/150\n",
            "235/235 [==============================] - 1s 4ms/step - loss: 0.1079 - val_loss: 0.1074\n",
            "Epoch 143/150\n",
            "235/235 [==============================] - 1s 4ms/step - loss: 0.1078 - val_loss: 0.1073\n",
            "Epoch 144/150\n",
            "235/235 [==============================] - 1s 4ms/step - loss: 0.1078 - val_loss: 0.1074\n",
            "Epoch 145/150\n",
            "235/235 [==============================] - 1s 4ms/step - loss: 0.1078 - val_loss: 0.1072\n",
            "Epoch 146/150\n",
            "235/235 [==============================] - 1s 4ms/step - loss: 0.1078 - val_loss: 0.1073\n",
            "Epoch 147/150\n",
            "235/235 [==============================] - 1s 4ms/step - loss: 0.1077 - val_loss: 0.1071\n",
            "Epoch 148/150\n",
            "235/235 [==============================] - 1s 4ms/step - loss: 0.1077 - val_loss: 0.1072\n",
            "Epoch 149/150\n",
            "235/235 [==============================] - 1s 4ms/step - loss: 0.1076 - val_loss: 0.1070\n",
            "Epoch 150/150\n",
            "235/235 [==============================] - 1s 4ms/step - loss: 0.1076 - val_loss: 0.1070\n"
          ]
        }
      ]
    },
    {
      "cell_type": "code",
      "source": [
        "print(x_test.shape)\n",
        "print(y_test2.shape)"
      ],
      "metadata": {
        "colab": {
          "base_uri": "https://localhost:8080/"
        },
        "id": "gxWJp04BT6cr",
        "outputId": "62acfe5e-4359-4e35-f57e-0a58f2042a5e"
      },
      "execution_count": 33,
      "outputs": [
        {
          "output_type": "stream",
          "name": "stdout",
          "text": [
            "(10000, 784)\n",
            "(10000, 10)\n"
          ]
        }
      ]
    },
    {
      "cell_type": "markdown",
      "source": [
        "###Guardamos el modelo"
      ],
      "metadata": {
        "id": "Z0IflfOZRhzV"
      }
    },
    {
      "cell_type": "code",
      "source": [
        "autoencoder3.save_weights('autoencoder3.h5')"
      ],
      "metadata": {
        "id": "efgQjh7PRjTd"
      },
      "execution_count": 34,
      "outputs": []
    },
    {
      "cell_type": "code",
      "source": [
        "print(input_dim)"
      ],
      "metadata": {
        "colab": {
          "base_uri": "https://localhost:8080/"
        },
        "id": "EyJ6ZHIRWSTx",
        "outputId": "f4256fae-dcbc-4540-871a-470ddcf13122"
      },
      "execution_count": 35,
      "outputs": [
        {
          "output_type": "stream",
          "name": "stdout",
          "text": [
            "(784,)\n"
          ]
        }
      ]
    },
    {
      "cell_type": "markdown",
      "source": [
        "##Modelo clasificador"
      ],
      "metadata": {
        "id": "rW18thx3VvcY"
      }
    },
    {
      "cell_type": "code",
      "source": [
        "def classifier(latent_layer1,latent_layer2,latent_layer3):\n",
        "  model = Sequential() #Creando la caja negra con arquitectura secuencial\n",
        "\n",
        "  model.add(Flatten(input_shape=(28, 28)))\n",
        "  model.add(Dense(128, activation='relu'))\n",
        "  model.add(latent_layer1)\n",
        "  model.add(latent_layer2)\n",
        "  model.add(latent_layer3)\n",
        "  model.add(Dense(num_class, activation = 'softmax'))\n",
        "\n",
        "  model.summary() #Resumen del modelo\n",
        "\n",
        "  model.compile(loss = 'categorical_crossentropy', optimizer = 'adam', metrics=['accuracy']) #Como es un problema probabilístico, se usa un error categorical\n",
        "  # El optimizador que mejor funciona es el adam, y también usaremos métricas\n",
        "\n",
        "\n",
        "  return model"
      ],
      "metadata": {
        "id": "sEQ0M5yBhGo5"
      },
      "execution_count": 36,
      "outputs": []
    },
    {
      "cell_type": "code",
      "source": [
        "model = classifier(latent_layer1,latent_layer2,latent_layer3)\n",
        "\n",
        "plot_model(model, to_file='model.jpg', show_shapes=True) #Para mostrar el resumen de la arquitectura"
      ],
      "metadata": {
        "colab": {
          "base_uri": "https://localhost:8080/",
          "height": 1000
        },
        "id": "IkWNbYt4bKi_",
        "outputId": "a65444c5-0640-441d-c49c-d85bdfe82728"
      },
      "execution_count": 37,
      "outputs": [
        {
          "output_type": "stream",
          "name": "stdout",
          "text": [
            "Model: \"sequential\"\n",
            "_________________________________________________________________\n",
            " Layer (type)                Output Shape              Param #   \n",
            "=================================================================\n",
            " flatten (Flatten)           (None, 784)               0         \n",
            "                                                                 \n",
            " dense_18 (Dense)            (None, 128)               100480    \n",
            "                                                                 \n",
            " dense_2 (Dense)             (None, 64)                8256      \n",
            "                                                                 \n",
            " dense_8 (Dense)             (None, 32)                2080      \n",
            "                                                                 \n",
            " dense_14 (Dense)            (None, 16)                528       \n",
            "                                                                 \n",
            " dense_19 (Dense)            (None, 10)                170       \n",
            "                                                                 \n",
            "=================================================================\n",
            "Total params: 111,514\n",
            "Trainable params: 111,514\n",
            "Non-trainable params: 0\n",
            "_________________________________________________________________\n"
          ]
        },
        {
          "output_type": "execute_result",
          "data": {
            "text/plain": [
              "<IPython.core.display.Image object>"
            ],
            "image/jpeg": "[encoded data removed]"
          },
          "metadata": {},
          "execution_count": 37
        }
      ]
    },
    {
      "cell_type": "markdown",
      "source": [
        "###Reshape de la data de entrenamiento"
      ],
      "metadata": {
        "id": "aWWti9L9tC9Z"
      }
    },
    {
      "cell_type": "code",
      "source": [
        "x_train = x_train.reshape(60000,28,28) #Los autoencoders necesitan vectores unidimensionales, pero el clasificador si puede usar matrices"
      ],
      "metadata": {
        "id": "2d8IWQJVqw-Z"
      },
      "execution_count": 38,
      "outputs": []
    },
    {
      "cell_type": "code",
      "source": [
        "print('Dimensión de la las imágenes de entrenamiento: ',x_train.shape)\n",
        "print('\\nDimensión de la los labels de entrenamiento: ',y_train2.shape)"
      ],
      "metadata": {
        "colab": {
          "base_uri": "https://localhost:8080/"
        },
        "id": "E3HtRu61qn12",
        "outputId": "dfde73ed-58ee-4fb1-dd65-7fb00fcb061c"
      },
      "execution_count": 39,
      "outputs": [
        {
          "output_type": "stream",
          "name": "stdout",
          "text": [
            "Dimensión de la las imágenes de entrenamiento:  (60000, 28, 28)\n",
            "\n",
            "Dimensión de la los labels de entrenamiento:  (60000, 10)\n"
          ]
        }
      ]
    },
    {
      "cell_type": "markdown",
      "source": [
        "###Reshape de la data de validación"
      ],
      "metadata": {
        "id": "votyhdyhtRG3"
      }
    },
    {
      "cell_type": "code",
      "source": [
        "x_test = x_test.reshape(10000,28,28)#Los autoencoders necesitan vectores unidimensionales, pero el clasificador si puede usar matrices"
      ],
      "metadata": {
        "id": "Stwt-ENGooNi"
      },
      "execution_count": 40,
      "outputs": []
    },
    {
      "cell_type": "code",
      "source": [
        "print('\\nDimensión de las imágenes de validación: ',x_test.shape)\n",
        "print('\\nDimensión de los labels de validación: ',y_test2.shape)"
      ],
      "metadata": {
        "colab": {
          "base_uri": "https://localhost:8080/"
        },
        "id": "Pn2Uw8j0ojET",
        "outputId": "3ddd60ca-8d43-4638-f916-c6bd81a2e04e"
      },
      "execution_count": 41,
      "outputs": [
        {
          "output_type": "stream",
          "name": "stdout",
          "text": [
            "\n",
            "Dimensión de las imágenes de validación:  (10000, 28, 28)\n",
            "\n",
            "Dimensión de los labels de validación:  (10000, 10)\n"
          ]
        }
      ]
    },
    {
      "cell_type": "markdown",
      "source": [
        "###Entrenando el modelo de clasificación"
      ],
      "metadata": {
        "id": "q4ROFACMteRZ"
      }
    },
    {
      "cell_type": "code",
      "source": [
        "history = model.fit(x_train,y_train2, validation_data=(x_test,y_test2), epochs=50, batch_size=256, shuffle=True)\n",
        "#El shuffle es para que la data se revuelva y no la entrene siempre en el mismo orden, mejorando la calidad del aprendizaje\n",
        "#Mientras el accuracy más cerca a 1 mejor"
      ],
      "metadata": {
        "colab": {
          "base_uri": "https://localhost:8080/"
        },
        "id": "dq_PJjUVqi_r",
        "outputId": "35f688e8-3d07-4b26-abe9-917f13daa34f"
      },
      "execution_count": 42,
      "outputs": [
        {
          "output_type": "stream",
          "name": "stdout",
          "text": [
            "Epoch 1/50\n",
            "235/235 [==============================] - 2s 5ms/step - loss: 0.5696 - accuracy: 0.8277 - val_loss: 0.2289 - val_accuracy: 0.9334\n",
            "Epoch 2/50\n",
            "235/235 [==============================] - 1s 4ms/step - loss: 0.1879 - accuracy: 0.9461 - val_loss: 0.1507 - val_accuracy: 0.9548\n",
            "Epoch 3/50\n",
            "235/235 [==============================] - 1s 4ms/step - loss: 0.1281 - accuracy: 0.9627 - val_loss: 0.1202 - val_accuracy: 0.9657\n",
            "Epoch 4/50\n",
            "235/235 [==============================] - 1s 4ms/step - loss: 0.0961 - accuracy: 0.9714 - val_loss: 0.1069 - val_accuracy: 0.9691\n",
            "Epoch 5/50\n",
            "235/235 [==============================] - 1s 4ms/step - loss: 0.0775 - accuracy: 0.9768 - val_loss: 0.1003 - val_accuracy: 0.9714\n",
            "Epoch 6/50\n",
            "235/235 [==============================] - 1s 4ms/step - loss: 0.0604 - accuracy: 0.9821 - val_loss: 0.1140 - val_accuracy: 0.9664\n",
            "Epoch 7/50\n",
            "235/235 [==============================] - 1s 4ms/step - loss: 0.0520 - accuracy: 0.9842 - val_loss: 0.1006 - val_accuracy: 0.9710\n",
            "Epoch 8/50\n",
            "235/235 [==============================] - 1s 4ms/step - loss: 0.0434 - accuracy: 0.9869 - val_loss: 0.0923 - val_accuracy: 0.9735\n",
            "Epoch 9/50\n",
            "235/235 [==============================] - 1s 4ms/step - loss: 0.0391 - accuracy: 0.9880 - val_loss: 0.0971 - val_accuracy: 0.9720\n",
            "Epoch 10/50\n",
            "235/235 [==============================] - 1s 4ms/step - loss: 0.0318 - accuracy: 0.9906 - val_loss: 0.0934 - val_accuracy: 0.9741\n",
            "Epoch 11/50\n",
            "235/235 [==============================] - 1s 4ms/step - loss: 0.0263 - accuracy: 0.9923 - val_loss: 0.1021 - val_accuracy: 0.9718\n",
            "Epoch 12/50\n",
            "235/235 [==============================] - 1s 4ms/step - loss: 0.0240 - accuracy: 0.9928 - val_loss: 0.0954 - val_accuracy: 0.9745\n",
            "Epoch 13/50\n",
            "235/235 [==============================] - 1s 4ms/step - loss: 0.0176 - accuracy: 0.9949 - val_loss: 0.1031 - val_accuracy: 0.9738\n",
            "Epoch 14/50\n",
            "235/235 [==============================] - 1s 4ms/step - loss: 0.0165 - accuracy: 0.9949 - val_loss: 0.0968 - val_accuracy: 0.9755\n",
            "Epoch 15/50\n",
            "235/235 [==============================] - 1s 4ms/step - loss: 0.0133 - accuracy: 0.9961 - val_loss: 0.1020 - val_accuracy: 0.9750\n",
            "Epoch 16/50\n",
            "235/235 [==============================] - 1s 4ms/step - loss: 0.0134 - accuracy: 0.9960 - val_loss: 0.1137 - val_accuracy: 0.9742\n",
            "Epoch 17/50\n",
            "235/235 [==============================] - 1s 4ms/step - loss: 0.0178 - accuracy: 0.9944 - val_loss: 0.1210 - val_accuracy: 0.9748\n",
            "Epoch 18/50\n",
            "235/235 [==============================] - 1s 4ms/step - loss: 0.0133 - accuracy: 0.9957 - val_loss: 0.1037 - val_accuracy: 0.9754\n",
            "Epoch 19/50\n",
            "235/235 [==============================] - 1s 4ms/step - loss: 0.0086 - accuracy: 0.9974 - val_loss: 0.1082 - val_accuracy: 0.9771\n",
            "Epoch 20/50\n",
            "235/235 [==============================] - 1s 4ms/step - loss: 0.0097 - accuracy: 0.9970 - val_loss: 0.1262 - val_accuracy: 0.9747\n",
            "Epoch 21/50\n",
            "235/235 [==============================] - 1s 4ms/step - loss: 0.0067 - accuracy: 0.9980 - val_loss: 0.1148 - val_accuracy: 0.9767\n",
            "Epoch 22/50\n",
            "235/235 [==============================] - 1s 4ms/step - loss: 0.0076 - accuracy: 0.9976 - val_loss: 0.1261 - val_accuracy: 0.9738\n",
            "Epoch 23/50\n",
            "235/235 [==============================] - 1s 4ms/step - loss: 0.0173 - accuracy: 0.9944 - val_loss: 0.1307 - val_accuracy: 0.9725\n",
            "Epoch 24/50\n",
            "235/235 [==============================] - 1s 4ms/step - loss: 0.0094 - accuracy: 0.9967 - val_loss: 0.1313 - val_accuracy: 0.9741\n",
            "Epoch 25/50\n",
            "235/235 [==============================] - 1s 4ms/step - loss: 0.0059 - accuracy: 0.9983 - val_loss: 0.1128 - val_accuracy: 0.9775\n",
            "Epoch 26/50\n",
            "235/235 [==============================] - 1s 4ms/step - loss: 0.0060 - accuracy: 0.9980 - val_loss: 0.1311 - val_accuracy: 0.9758\n",
            "Epoch 27/50\n",
            "235/235 [==============================] - 1s 4ms/step - loss: 0.0104 - accuracy: 0.9963 - val_loss: 0.1252 - val_accuracy: 0.9765\n",
            "Epoch 28/50\n",
            "235/235 [==============================] - 1s 4ms/step - loss: 0.0067 - accuracy: 0.9977 - val_loss: 0.1289 - val_accuracy: 0.9770\n",
            "Epoch 29/50\n",
            "235/235 [==============================] - 1s 4ms/step - loss: 0.0071 - accuracy: 0.9976 - val_loss: 0.1287 - val_accuracy: 0.9764\n",
            "Epoch 30/50\n",
            "235/235 [==============================] - 1s 4ms/step - loss: 0.0052 - accuracy: 0.9983 - val_loss: 0.1270 - val_accuracy: 0.9763\n",
            "Epoch 31/50\n",
            "235/235 [==============================] - 1s 4ms/step - loss: 0.0052 - accuracy: 0.9983 - val_loss: 0.1327 - val_accuracy: 0.9757\n",
            "Epoch 32/50\n",
            "235/235 [==============================] - 1s 4ms/step - loss: 0.0056 - accuracy: 0.9981 - val_loss: 0.1314 - val_accuracy: 0.9766\n",
            "Epoch 33/50\n",
            "235/235 [==============================] - 1s 4ms/step - loss: 0.0068 - accuracy: 0.9978 - val_loss: 0.1522 - val_accuracy: 0.9758\n",
            "Epoch 34/50\n",
            "235/235 [==============================] - 1s 4ms/step - loss: 0.0119 - accuracy: 0.9963 - val_loss: 0.1385 - val_accuracy: 0.9765\n",
            "Epoch 35/50\n",
            "235/235 [==============================] - 1s 4ms/step - loss: 0.0065 - accuracy: 0.9978 - val_loss: 0.1184 - val_accuracy: 0.9784\n",
            "Epoch 36/50\n",
            "235/235 [==============================] - 1s 4ms/step - loss: 0.0059 - accuracy: 0.9981 - val_loss: 0.1239 - val_accuracy: 0.9777\n",
            "Epoch 37/50\n",
            "235/235 [==============================] - 1s 4ms/step - loss: 0.0038 - accuracy: 0.9990 - val_loss: 0.1502 - val_accuracy: 0.9735\n",
            "Epoch 38/50\n",
            "235/235 [==============================] - 1s 4ms/step - loss: 0.0094 - accuracy: 0.9969 - val_loss: 0.1470 - val_accuracy: 0.9766\n",
            "Epoch 39/50\n",
            "235/235 [==============================] - 1s 4ms/step - loss: 0.0045 - accuracy: 0.9985 - val_loss: 0.1272 - val_accuracy: 0.9791\n",
            "Epoch 40/50\n",
            "235/235 [==============================] - 1s 4ms/step - loss: 0.0044 - accuracy: 0.9987 - val_loss: 0.1453 - val_accuracy: 0.9767\n",
            "Epoch 41/50\n",
            "235/235 [==============================] - 1s 4ms/step - loss: 0.0042 - accuracy: 0.9987 - val_loss: 0.1403 - val_accuracy: 0.9780\n",
            "Epoch 42/50\n",
            "235/235 [==============================] - 1s 4ms/step - loss: 0.0051 - accuracy: 0.9982 - val_loss: 0.1352 - val_accuracy: 0.9773\n",
            "Epoch 43/50\n",
            "235/235 [==============================] - 1s 4ms/step - loss: 0.0089 - accuracy: 0.9970 - val_loss: 0.1524 - val_accuracy: 0.9761\n",
            "Epoch 44/50\n",
            "235/235 [==============================] - 1s 4ms/step - loss: 0.0075 - accuracy: 0.9974 - val_loss: 0.1398 - val_accuracy: 0.9777\n",
            "Epoch 45/50\n",
            "235/235 [==============================] - 1s 4ms/step - loss: 0.0049 - accuracy: 0.9984 - val_loss: 0.1330 - val_accuracy: 0.9788\n",
            "Epoch 46/50\n",
            "235/235 [==============================] - 1s 4ms/step - loss: 0.0035 - accuracy: 0.9988 - val_loss: 0.1391 - val_accuracy: 0.9791\n",
            "Epoch 47/50\n",
            "235/235 [==============================] - 1s 4ms/step - loss: 0.0011 - accuracy: 0.9998 - val_loss: 0.1374 - val_accuracy: 0.9781\n",
            "Epoch 48/50\n",
            "235/235 [==============================] - 1s 4ms/step - loss: 7.4501e-04 - accuracy: 0.9998 - val_loss: 0.1345 - val_accuracy: 0.9798\n",
            "Epoch 49/50\n",
            "235/235 [==============================] - 1s 4ms/step - loss: 2.8652e-04 - accuracy: 0.9999 - val_loss: 0.1299 - val_accuracy: 0.9811\n",
            "Epoch 50/50\n",
            "235/235 [==============================] - 1s 4ms/step - loss: 4.6703e-05 - accuracy: 1.0000 - val_loss: 0.1316 - val_accuracy: 0.9809\n"
          ]
        }
      ]
    },
    {
      "cell_type": "code",
      "source": [
        "tf.config.run_functions_eagerly(True) #Config del run de tensorflow, para evitar posibles errores"
      ],
      "metadata": {
        "id": "uvN3aBTupfUQ"
      },
      "execution_count": 43,
      "outputs": []
    },
    {
      "cell_type": "markdown",
      "source": [
        "##Evaluación del modelo final\n",
        "Se calculan sus valores de pérdida y de acierto con la data de validación"
      ],
      "metadata": {
        "id": "TKaBpqF1tu9Y"
      }
    },
    {
      "cell_type": "code",
      "source": [
        "score = model.evaluate(x_test, y_test2, verbose=0) #Para mostrar la pérdida\n",
        "\n",
        "print('\\nValor de la pérdida:',score[0]) #Imprimiendo el valor de la pérdida\n",
        "print('\\nScore del accuracy:',score[1]) #Imprimiendo el valor del accuracy"
      ],
      "metadata": {
        "colab": {
          "base_uri": "https://localhost:8080/"
        },
        "id": "SISGLl0bmWD9",
        "outputId": "4b47edb8-637c-41a8-9276-537c9055576d"
      },
      "execution_count": 44,
      "outputs": [
        {
          "output_type": "stream",
          "name": "stderr",
          "text": [
            "/usr/local/lib/python3.7/dist-packages/tensorflow/python/data/ops/structured_function.py:265: UserWarning: Even though the `tf.config.experimental_run_functions_eagerly` option is set, this option does not apply to tf.data functions. To force eager execution of tf.data functions, please use `tf.data.experimental.enable_debug_mode()`.\n",
            "  \"Even though the `tf.config.experimental_run_functions_eagerly` \"\n"
          ]
        },
        {
          "output_type": "stream",
          "name": "stdout",
          "text": [
            "\n",
            "Valor de la pérdida: 0.13160601258277893\n",
            "\n",
            "Score del accuracy: 0.98089998960495\n"
          ]
        }
      ]
    },
    {
      "cell_type": "markdown",
      "source": [
        "##Graficar Pérdida"
      ],
      "metadata": {
        "id": "gIYrZFLVu_mc"
      }
    },
    {
      "cell_type": "code",
      "source": [
        "plt.figure() #Gráfica del accuracy del modelo\n",
        "plt.plot(history.history['accuracy'], label='accuracy')\n",
        "plt.plot(history.history['val_accuracy'], label='val_accuracy')\n",
        "plt.title('Model accuracy')\n",
        "plt.xlabel('Epochs')\n",
        "plt.ylabel('Accuracy')\n",
        "plt.legend(loc = 'lower right') #Podemos decirle dónde queremos colocar la leyenda\n",
        "plt.show()\n",
        "\n",
        "plt.figure() #Gráfica de la pérdida del modelo\n",
        "plt.plot(history.history['loss'], label='loss')\n",
        "plt.plot(history.history['val_loss'], label='val_loss')\n",
        "plt.title('Model loss')\n",
        "plt.xlabel('Epochs')\n",
        "plt.ylabel('Loss')\n",
        "plt.legend(loc = 'upper right')\n",
        "plt.show()"
      ],
      "metadata": {
        "colab": {
          "base_uri": "https://localhost:8080/",
          "height": 573
        },
        "id": "nCK9Yi1qvBWa",
        "outputId": "4c221e48-7537-4da7-bc8c-95bb8a089bfa"
      },
      "execution_count": 45,
      "outputs": [
        {
          "output_type": "display_data",
          "data": {
            "text/plain": [
              "<Figure size 432x288 with 1 Axes>"
            ],
            "image/png": "[encoded data removed]"
          },
          "metadata": {
            "needs_background": "light"
          }
        },
        {
          "output_type": "display_data",
          "data": {
            "text/plain": [
              "<Figure size 432x288 with 1 Axes>"
            ],
            "image/png": "[encoded data removed]"
          },
          "metadata": {
            "needs_background": "light"
          }
        }
      ]
    },
    {
      "cell_type": "markdown",
      "source": [
        "##Model Predict"
      ],
      "metadata": {
        "id": "5fywnTRbvvAU"
      }
    },
    {
      "cell_type": "code",
      "source": [
        "predictions = model.predict(x_test) #Predicción del modelo final"
      ],
      "metadata": {
        "colab": {
          "base_uri": "https://localhost:8080/"
        },
        "id": "Pu6FMkznpsbB",
        "outputId": "d67e2a7e-5811-43be-dade-a4f6b1334af9"
      },
      "execution_count": 46,
      "outputs": [
        {
          "output_type": "stream",
          "name": "stderr",
          "text": [
            "/usr/local/lib/python3.7/dist-packages/tensorflow/python/data/ops/structured_function.py:265: UserWarning: Even though the `tf.config.experimental_run_functions_eagerly` option is set, this option does not apply to tf.data functions. To force eager execution of tf.data functions, please use `tf.data.experimental.enable_debug_mode()`.\n",
            "  \"Even though the `tf.config.experimental_run_functions_eagerly` \"\n"
          ]
        }
      ]
    },
    {
      "cell_type": "markdown",
      "source": [
        "###Obtenemos las predicciones de la primera imágen en cada clase"
      ],
      "metadata": {
        "id": "cNyH0Go-wBmC"
      }
    },
    {
      "cell_type": "code",
      "source": [
        "predictions[0] #Predicciones resultantes de una imágen en específico"
      ],
      "metadata": {
        "colab": {
          "base_uri": "https://localhost:8080/"
        },
        "id": "2Ts9g5l8pymt",
        "outputId": "7e7dcb4f-c574-4d3a-bd5f-91f33813b6c6"
      },
      "execution_count": 47,
      "outputs": [
        {
          "output_type": "execute_result",
          "data": {
            "text/plain": [
              "array([1.0964086e-17, 2.9042438e-16, 5.1708041e-15, 1.8676351e-13,\n",
              "       1.5462429e-17, 6.0097797e-23, 5.1726904e-18, 1.0000000e+00,\n",
              "       4.8520371e-16, 6.2104503e-14], dtype=float32)"
            ]
          },
          "metadata": {},
          "execution_count": 47
        }
      ]
    },
    {
      "cell_type": "markdown",
      "source": [
        "Se selecciona la clase con el mayor valor, como la clave predicha"
      ],
      "metadata": {
        "id": "mSBr4UfWwGKl"
      }
    },
    {
      "cell_type": "code",
      "source": [
        "np.argmax(predictions[0]) #Imprimiendo la clase con el mayor valor en la predicción"
      ],
      "metadata": {
        "colab": {
          "base_uri": "https://localhost:8080/"
        },
        "id": "_mxpf1fUp08D",
        "outputId": "c536e381-eec7-4e02-af44-05770f0bace2"
      },
      "execution_count": 48,
      "outputs": [
        {
          "output_type": "execute_result",
          "data": {
            "text/plain": [
              "7"
            ]
          },
          "metadata": {},
          "execution_count": 48
        }
      ]
    },
    {
      "cell_type": "markdown",
      "source": [
        "Y ahora se compara con el valor real de la clase de esa imágen"
      ],
      "metadata": {
        "id": "JDtXC5BDwW1A"
      }
    },
    {
      "cell_type": "code",
      "source": [
        "y_test[0] #Clase real a la cual pertenece"
      ],
      "metadata": {
        "colab": {
          "base_uri": "https://localhost:8080/"
        },
        "id": "VxID9rPtp2z7",
        "outputId": "e15369f3-8548-47b9-a0ca-7a6562a3d9e2"
      },
      "execution_count": 49,
      "outputs": [
        {
          "output_type": "execute_result",
          "data": {
            "text/plain": [
              "7"
            ]
          },
          "metadata": {},
          "execution_count": 49
        }
      ]
    },
    {
      "cell_type": "markdown",
      "source": [
        "##Función para graficar las clases y su % de predicción para cada imágen\n",
        "Esto se hará con un gráfico de barra, en donde en el eje x estarán las clases, mientras que en el eje y estarán los % de predicción"
      ],
      "metadata": {
        "id": "fG8CtzRywjvc"
      }
    },
    {
      "cell_type": "code",
      "source": [
        "def plot_image(i, predictions_array, true_label, img): #Para mostrar la imágen\n",
        "  predictions_array, true_label, img = predictions_array, true_label[i], img[i] #Guardamos la predicción real y las del model predict\n",
        "  plt.grid(False) #Para eliminar los número de los ejes\n",
        "  plt.xticks([]) #Sin numeración y rangos en el eje x\n",
        "  plt.yticks([]) #Sin numeración y rangos en el eje y\n",
        "\n",
        "  plt.imshow(img, cmap=plt.cm.binary) #Se muestra la imágen\n",
        "\n",
        "  predicted_label = np.argmax(predictions_array) #Obteniendo el label predicho\n",
        "  if predicted_label == true_label: #Si el label predicho es el mismo que el real, que se muestre el texto en azul\n",
        "    color = 'blue'\n",
        "  else: #Sino, en rojo\n",
        "    color = 'red'\n",
        "\n",
        "  plt.xlabel(\"{} {:2.0f}% ({})\".format(class_names[predicted_label],\n",
        "                                100*np.max(predictions_array),\n",
        "                                class_names[true_label]),\n",
        "                                color=color) #Label de cada imágen, en donde se muestra el valor de la predicción, su % y el valor real entre ()\n",
        "\n",
        "def plot_value_array(i, predictions_array, true_label): #Mostrar el gráfico de barras\n",
        "  predictions_array, true_label = predictions_array, true_label[i] #Guardamos la predicción real y las del model predict\n",
        "  plt.grid(False) #Para eliminar los número de los ejes\n",
        "  plt.xticks(range(10)) #Con numeración del 0 al 9 en el eje x\n",
        "  plt.yticks([]) #Sin numeración y rangos en el eje y\n",
        "  thisplot = plt.bar(range(10), predictions_array, color=\"#777777\") #A todas las barras se les pone el color gris por defecto\n",
        "  plt.ylim([0, 1])\n",
        "  predicted_label = np.argmax(predictions_array)\n",
        "\n",
        "  thisplot[predicted_label].set_color('red') #Rojo a la predicha (si está mala)\n",
        "  thisplot[true_label].set_color('blue') #Porque la que es real, tendrá azul"
      ],
      "metadata": {
        "id": "uzRI5RsJp7z-"
      },
      "execution_count": 50,
      "outputs": []
    },
    {
      "cell_type": "markdown",
      "source": [
        "##Corroboramos la clasificación de una sola imágen"
      ],
      "metadata": {
        "id": "aSxuKbhVzubi"
      }
    },
    {
      "cell_type": "code",
      "source": [
        "i = 3000 #Imágen cualquiera del data set\n",
        "plt.figure(figsize=(6,3)) #Tamaño de la imágen\n",
        "plt.subplot(1,2,1) #Subplot de una fila, dos columnas, empezando desde la primera posición\n",
        "plot_image(i, predictions[i], y_test, x_test) #Mostrando la imágen del data set\n",
        "plt.subplot(1,2,2) #Subplot de una fila, dos columnas, empezando desde la primera posición\n",
        "plot_value_array(i, predictions[i],  y_test) #Mostrando la gráfica de predicción\n",
        "plt.show() #Mostrar todo"
      ],
      "metadata": {
        "colab": {
          "base_uri": "https://localhost:8080/",
          "height": 211
        },
        "id": "SEbEYIrYqBmi",
        "outputId": "a748b371-b1f4-462c-e20d-523756f2cc65"
      },
      "execution_count": 51,
      "outputs": [
        {
          "output_type": "display_data",
          "data": {
            "text/plain": [
              "<Figure size 432x216 with 2 Axes>"
            ],
            "image/png": "[encoded data removed]"
          },
          "metadata": {
            "needs_background": "light"
          }
        }
      ]
    },
    {
      "cell_type": "markdown",
      "source": [
        "##Corroboramos la clasificación de un conjunto de imágenes"
      ],
      "metadata": {
        "id": "mgJHh464zzf_"
      }
    },
    {
      "cell_type": "code",
      "source": [
        "num_rows = 6 #Número de filas deseadas\n",
        "num_cols = 4 #Número de columnas deseadas\n",
        "num_images = num_rows*num_cols #Número total de imágenes\n",
        "plt.figure(figsize=(2*2*num_cols, 2*num_rows)) #Tamaño de las imágenes\n",
        "\n",
        "for i in range(num_images): #For para imprimir todo\n",
        "  plt.subplot(num_rows, 2*num_cols, 2*i+1) #Subplots de (n filas, n columnas, empezando desde el 1)\n",
        "  plot_image(i, predictions[i], y_test, x_test) #Imágen\n",
        "  plt.subplot(num_rows, 2*num_cols, 2*i+2) #Subplots de (n filas, n columnas, empezando desde la segunda posicións)\n",
        "  plot_value_array(i, predictions[i], y_test) #Gráfica\n",
        "plt.tight_layout() \n",
        "plt.show() #Mostrar todo"
      ],
      "metadata": {
        "colab": {
          "base_uri": "https://localhost:8080/",
          "height": 873
        },
        "id": "hEaobwzHqOTV",
        "outputId": "ea40b105-b4fa-4ed7-9838-95891102816e"
      },
      "execution_count": 52,
      "outputs": [
        {
          "output_type": "display_data",
          "data": {
            "text/plain": [
              "<Figure size 1152x864 with 48 Axes>"
            ],
            "image/png": "[encoded data removed]"
          },
          "metadata": {
            "needs_background": "light"
          }
        }
      ]
    },
    {
      "cell_type": "markdown",
      "source": [
        "## Confusion matrix\n",
        "####Esta matriz lo que indica es la cantidad o porcentaje de clasificaciones correctas en la diagonal de la matriz, así como la cantidad de clasificaciones incorrectas en cada clase"
      ],
      "metadata": {
        "id": "95EbF8UP6fK6"
      }
    },
    {
      "cell_type": "code",
      "source": [
        "print('La dimensión de la predicción de la validación es: ', predictions.shape)\n",
        "#Aquí hacemos una pequeña prueba para ver si los valores y resultados de un caso en específico, concuerdan\n",
        "print('\\nLa salida deseada es: ',y_test[0])\n",
        "print('\\nLa salida de la predicción es: ', predictions[0])"
      ],
      "metadata": {
        "colab": {
          "base_uri": "https://localhost:8080/"
        },
        "id": "cfLcjfk36kbF",
        "outputId": "e4ba40f9-b0c0-4665-c544-89005e377c25"
      },
      "execution_count": 53,
      "outputs": [
        {
          "output_type": "stream",
          "name": "stdout",
          "text": [
            "La dimensión de la predicción de la validación es:  (10000, 10)\n",
            "\n",
            "La salida deseada es:  7\n",
            "\n",
            "La salida de la predicción es:  [1.0964086e-17 2.9042438e-16 5.1708041e-15 1.8676351e-13 1.5462429e-17\n",
            " 6.0097797e-23 5.1726904e-18 1.0000000e+00 4.8520371e-16 6.2104503e-14]\n"
          ]
        }
      ]
    },
    {
      "cell_type": "code",
      "source": [
        "print(np.argmax(predictions[0])) #Aquí verificamos que lo que está en la posición inicial del y_test sea igual al del outputTest"
      ],
      "metadata": {
        "colab": {
          "base_uri": "https://localhost:8080/"
        },
        "id": "n6VW1Cii6s5h",
        "outputId": "1e1124a3-3e23-47f3-add7-30e48c73e10f"
      },
      "execution_count": 54,
      "outputs": [
        {
          "output_type": "stream",
          "name": "stdout",
          "text": [
            "7\n"
          ]
        }
      ]
    },
    {
      "cell_type": "code",
      "source": [
        "print(y_test) #Data de salida esperada para la validación"
      ],
      "metadata": {
        "colab": {
          "base_uri": "https://localhost:8080/"
        },
        "id": "NTTa-KCW6vwj",
        "outputId": "f17d4735-7416-42e2-ed7f-94a468b70fb1"
      },
      "execution_count": 55,
      "outputs": [
        {
          "output_type": "stream",
          "name": "stdout",
          "text": [
            "[7 2 1 ... 4 5 6]\n"
          ]
        }
      ]
    },
    {
      "cell_type": "code",
      "source": [
        "outputTest = np.argmax(predictions, axis=1) #Para obtener el valor máximo de las filas\n",
        "outputTest = outputTest.round() #Redondear el valor máximo obtenido\n",
        "print(outputTest) #Data de salida obtenida para la validación"
      ],
      "metadata": {
        "colab": {
          "base_uri": "https://localhost:8080/"
        },
        "id": "hA7ZPx8y6xRo",
        "outputId": "d0bce74d-b0d7-49d6-8fe1-3cd453439d23"
      },
      "execution_count": 56,
      "outputs": [
        {
          "output_type": "stream",
          "name": "stdout",
          "text": [
            "[7 2 1 ... 4 5 6]\n"
          ]
        }
      ]
    },
    {
      "cell_type": "code",
      "source": [
        "from sklearn.metrics import confusion_matrix #Import para la matriz de confusión\n",
        "\n",
        "cm = confusion_matrix(y_test, outputTest) #NO se pueden ingresar aquí los vectores encode, se le tiene que pasar el valor\n",
        "#real. En el segundo argumento, se extraerá la posición en la cual ese vector o fila tiene su valor máximo, que es el que queremos obtener\n",
        "print(cm)"
      ],
      "metadata": {
        "colab": {
          "base_uri": "https://localhost:8080/"
        },
        "id": "baArGQNV6xLN",
        "outputId": "0642a133-18ec-4dd7-fc22-3f8155306cb9"
      },
      "execution_count": 60,
      "outputs": [
        {
          "output_type": "stream",
          "name": "stdout",
          "text": [
            "[[ 972    0    0    1    1    0    2    0    3    1]\n",
            " [   0 1124    2    2    0    1    2    1    3    0]\n",
            " [   1    2 1011    2    2    1    2    5    6    0]\n",
            " [   0    0    1  993    0    2    0    4    5    5]\n",
            " [   1    1    2    0  965    0    4    3    1    5]\n",
            " [   2    0    0   10    1  872    2    1    3    1]\n",
            " [   4    2    2    1    6    6  936    1    0    0]\n",
            " [   2    1    6    2    1    0    0 1005    3    8]\n",
            " [   3    0    3    3    4    3    2    2  949    5]\n",
            " [   1    3    0    4    9    5    0    3    2  982]]\n"
          ]
        }
      ]
    },
    {
      "cell_type": "code",
      "source": [
        "def plot_confusion_matrix(cm, num_classes,normalize=True,title='Matriz de Confusión',cmap=plt.cm.Blues): #Función para imprimir mejor la matriz de confusión\n",
        "      \n",
        "      import itertools\n",
        "      \n",
        "      classes = ['0', '1', '2','3','4','5','6','7','8','9']\n",
        "\n",
        "      plt.figure(figsize = (7,7))\n",
        "      plt.imshow(cm, interpolation='nearest', cmap=cmap)\n",
        "      plt.title(title)\n",
        "      plt.colorbar()\n",
        "      tick_marks = np.arange(len(classes))\n",
        "      plt.xticks(tick_marks, classes, rotation=90)\n",
        "      plt.yticks(tick_marks, classes)\n",
        "      if normalize:\n",
        "          cm = cm.astype('float') / cm.sum(axis=1)[:, np.newaxis]\n",
        "          cm = np.round(cm,3)\n",
        "      thresh = cm.max() / 1.05\n",
        "      for i, j in itertools.product(range(cm.shape[0]), range(cm.shape[1])):\n",
        "          plt.text(j, i, cm[i, j],\n",
        "                   horizontalalignment=\"center\",\n",
        "                   color=\"white\" if cm[i, j] > thresh else \"black\")\n",
        "      plt.tight_layout()\n",
        "      plt.ylabel('Original')\n",
        "      plt.xlabel('Predicciones')"
      ],
      "metadata": {
        "id": "Iz2_eM-f68TD"
      },
      "execution_count": 63,
      "outputs": []
    },
    {
      "cell_type": "code",
      "source": [
        "plot_confusion_matrix(cm, num_class) #Matriz de confusión"
      ],
      "metadata": {
        "colab": {
          "base_uri": "https://localhost:8080/",
          "height": 513
        },
        "id": "p2RkFfmV9p9S",
        "outputId": "d9398b37-293a-4457-b44d-58fc49ca8a1e"
      },
      "execution_count": 64,
      "outputs": [
        {
          "output_type": "display_data",
          "data": {
            "text/plain": [
              "<Figure size 504x504 with 2 Axes>"
            ],
            "image/png": "[encoded data removed]"
          },
          "metadata": {
            "needs_background": "light"
          }
        }
      ]
    }
  ]
}